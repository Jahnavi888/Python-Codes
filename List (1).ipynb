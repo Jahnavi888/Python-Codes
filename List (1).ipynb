{
 "cells": [
  {
   "cell_type": "code",
   "execution_count": 1,
   "metadata": {},
   "outputs": [
    {
     "name": "stdout",
     "output_type": "stream",
     "text": [
      "list1[0]:  2001\n",
      "list2[1:5]:  [2, 3]\n"
     ]
    }
   ],
   "source": [
    "list1 = ['Honey', 'Dolly', 2001, 200];\n",
    "list2 = [1, 2, 3, 4, 5, 6, 7 ];\n",
    "print (\"list1[0]: \", list1[2])\n",
    "print (\"list2[1:5]: \", list2[1:3])"
   ]
  },
  {
   "cell_type": "code",
   "execution_count": 2,
   "metadata": {},
   "outputs": [
    {
     "name": "stdout",
     "output_type": "stream",
     "text": [
      "Value available at index 2 : \n",
      "2001\n",
      "New value available at index 2 : \n",
      "2003\n"
     ]
    }
   ],
   "source": [
    "list = ['Honey', 'Dolly', 2001, 2000];\n",
    "print (\"Value available at index 2 : \")\n",
    "print (list[2])\n",
    "list[2] = 2003;\n",
    "print (\"New value available at index 2 : \")\n",
    "print (list[2])"
   ]
  },
  {
   "cell_type": "code",
   "execution_count": 3,
   "metadata": {},
   "outputs": [
    {
     "name": "stdout",
     "output_type": "stream",
     "text": [
      "['Honey', 'Dolly', 2001, 2003]\n",
      "After deleting value at index 2 :\n",
      "['Honey', 'Dolly', 2003]\n"
     ]
    }
   ],
   "source": [
    "list1 = ['Honey', 'Dolly', 2001, 2003];\n",
    "print (list1)\n",
    "del (list1[2]);\n",
    "print (\"After deleting value at index 2 :\")\n",
    "print (list1)"
   ]
  },
  {
   "cell_type": "code",
   "execution_count": 4,
   "metadata": {},
   "outputs": [
    {
     "name": "stdout",
     "output_type": "stream",
     "text": [
      "First list length :  3\n",
      "Second list length :  2\n"
     ]
    }
   ],
   "source": [
    "list1, list2 = [123, 'Honey', 'Dolly'], [456, 'abc']\n",
    "print (\"First list length : \", len(list1))\n",
    "print (\"Second list length : \", len(list2))"
   ]
  },
  {
   "cell_type": "code",
   "execution_count": 6,
   "metadata": {},
   "outputs": [
    {
     "name": "stdout",
     "output_type": "stream",
     "text": [
      "Updated List :  [123, 'Honey', 'Dolly', 'abc', 2003]\n"
     ]
    }
   ],
   "source": [
    "aList = [123, 'Honey', 'Dolly', 'abc'];\n",
    "aList.append( 2003 );\n",
    "print (\"Updated List : \", aList)"
   ]
  },
  {
   "cell_type": "code",
   "execution_count": 7,
   "metadata": {},
   "outputs": [
    {
     "name": "stdout",
     "output_type": "stream",
     "text": [
      "Count for Honey :  1\n",
      "Count for Dolly :  1\n"
     ]
    }
   ],
   "source": [
    "aList = [123, 'Honey', 'Dolly', 'abc', 123];\n",
    "print (\"Count for Honey : \", aList.count('Honey'))\n",
    "print (\"Count for Dolly : \", aList.count('Dolly'))"
   ]
  },
  {
   "cell_type": "code",
   "execution_count": 9,
   "metadata": {},
   "outputs": [
    {
     "name": "stdout",
     "output_type": "stream",
     "text": [
      "Extended List :  [123, 'Honey', 'Dolly', 'abc', 123, 2003, 'Sowmya Sree']\n"
     ]
    }
   ],
   "source": [
    "aList = [123, 'Honey', 'Dolly', 'abc', 123];\n",
    "bList = [2003, 'Sowmya Sree'];\n",
    "aList.extend(bList)\n",
    "print (\"Extended List : \", aList)"
   ]
  },
  {
   "cell_type": "code",
   "execution_count": 11,
   "metadata": {},
   "outputs": [
    {
     "name": "stdout",
     "output_type": "stream",
     "text": [
      "Index for Honey :  1\n",
      "Index for Dolly :  2\n"
     ]
    }
   ],
   "source": [
    "aList = [123, 'Honey', 'Dolly', 'abc', 'zara'];\n",
    "print (\"Index for Honey : \", aList.index( 'Honey' ) )\n",
    "print (\"Index for Dolly : \", aList.index( 'Dolly' ) )"
   ]
  },
  {
   "cell_type": "code",
   "execution_count": 12,
   "metadata": {},
   "outputs": [
    {
     "name": "stdout",
     "output_type": "stream",
     "text": [
      "Final List :  [123, 'Honey', 'Dolly', 2003, 'abc']\n"
     ]
    }
   ],
   "source": [
    "aList = [123, 'Honey', 'Dolly', 'abc']\n",
    "aList.insert( 3, 2003)\n",
    "print (\"Final List : \", aList)"
   ]
  },
  {
   "cell_type": "code",
   "execution_count": 13,
   "metadata": {},
   "outputs": [
    {
     "name": "stdout",
     "output_type": "stream",
     "text": [
      "[123, 'Honey', 'Dolly', 'abc']\n",
      "List after popping the last element :  abc\n",
      "[123, 'Honey', 'Dolly']\n",
      "List after popping element from the mentioned index:  Dolly\n",
      "[123, 'Honey']\n",
      "[123, 'Honey', 2003]\n"
     ]
    }
   ],
   "source": [
    "aList = [123, 'Honey', 'Dolly', 'abc'];\n",
    "\n",
    "print(aList)\n",
    "\n",
    "print (\"List after popping the last element : \", aList.pop())\n",
    "\n",
    "print(aList)\n",
    "\n",
    "print (\"List after popping element from the mentioned index: \", aList.pop(2))\n",
    "\n",
    "print(aList)\n",
    "\n",
    "aList.insert(4, 2003)\n",
    "\n",
    "print(aList)"
   ]
  },
  {
   "cell_type": "code",
   "execution_count": 14,
   "metadata": {},
   "outputs": [
    {
     "name": "stdout",
     "output_type": "stream",
     "text": [
      "List :  [123, 'Dolly', 'abc', 'xyz']\n",
      "List :  [123, 'Dolly', 'xyz']\n"
     ]
    }
   ],
   "source": [
    "aList = [123, 'Honey', 'Dolly', 'abc', 'xyz'];\n",
    "aList.remove('Honey');\n",
    "print (\"List : \", aList)\n",
    "aList.remove('abc');\n",
    "print (\"List : \", aList)"
   ]
  },
  {
   "cell_type": "code",
   "execution_count": 16,
   "metadata": {},
   "outputs": [
    {
     "name": "stdout",
     "output_type": "stream",
     "text": [
      "List :  ['Sowmya Sree', 'abc', 'Dolly', 'Honey', 'Jahnavi']\n"
     ]
    }
   ],
   "source": [
    "aList = ['Jahnavi', 'Honey', 'Dolly', 'abc', 'Sowmya Sree'];\n",
    "aList.reverse();\n",
    "print (\"List : \", aList)"
   ]
  },
  {
   "cell_type": "code",
   "execution_count": 18,
   "metadata": {},
   "outputs": [
    {
     "name": "stdout",
     "output_type": "stream",
     "text": [
      "List :  ['Dolly', 'Honey', 'Jahnavi', 'Sowmya Sree']\n"
     ]
    }
   ],
   "source": [
    "aList = ['Dolly', 'Sowmya Sree', 'Jahnavi', 'Honey'];\n",
    "aList.sort();\n",
    "print (\"List : \", aList)"
   ]
  },
  {
   "cell_type": "code",
   "execution_count": 19,
   "metadata": {},
   "outputs": [
    {
     "ename": "TypeError",
     "evalue": "'<' not supported between instances of 'str' and 'int'",
     "output_type": "error",
     "traceback": [
      "\u001b[1;31m---------------------------------------------------------------------------\u001b[0m",
      "\u001b[1;31mTypeError\u001b[0m                                 Traceback (most recent call last)",
      "\u001b[1;32m<ipython-input-19-8b78541647b5>\u001b[0m in \u001b[0;36m<module>\u001b[1;34m\u001b[0m\n\u001b[0;32m      1\u001b[0m \u001b[0maList\u001b[0m \u001b[1;33m=\u001b[0m \u001b[1;33m[\u001b[0m\u001b[1;36m123\u001b[0m\u001b[1;33m,\u001b[0m \u001b[1;34m'Honey'\u001b[0m\u001b[1;33m,\u001b[0m \u001b[1;34m'Dolly'\u001b[0m\u001b[1;33m,\u001b[0m \u001b[1;34m'abc'\u001b[0m\u001b[1;33m,\u001b[0m \u001b[1;34m'xyz'\u001b[0m\u001b[1;33m]\u001b[0m\u001b[1;33m;\u001b[0m\u001b[1;33m\u001b[0m\u001b[1;33m\u001b[0m\u001b[0m\n\u001b[1;32m----> 2\u001b[1;33m \u001b[0maList\u001b[0m\u001b[1;33m.\u001b[0m\u001b[0msort\u001b[0m\u001b[1;33m(\u001b[0m\u001b[1;33m)\u001b[0m\u001b[1;33m;\u001b[0m\u001b[1;33m\u001b[0m\u001b[1;33m\u001b[0m\u001b[0m\n\u001b[0m\u001b[0;32m      3\u001b[0m \u001b[0mprint\u001b[0m \u001b[1;33m(\u001b[0m\u001b[1;34m\"List : \"\u001b[0m\u001b[1;33m,\u001b[0m \u001b[0maList\u001b[0m\u001b[1;33m)\u001b[0m\u001b[1;33m\u001b[0m\u001b[1;33m\u001b[0m\u001b[0m\n",
      "\u001b[1;31mTypeError\u001b[0m: '<' not supported between instances of 'str' and 'int'"
     ]
    }
   ],
   "source": [
    "aList = [123, 'Honey', 'Dolly', 'abc', 'xyz'];\n",
    "aList.sort();\n",
    "print (\"List : \", aList)"
   ]
  },
  {
   "cell_type": "code",
   "execution_count": null,
   "metadata": {},
   "outputs": [],
   "source": []
  }
 ],
 "metadata": {
  "kernelspec": {
   "display_name": "Python 3",
   "language": "python",
   "name": "python3"
  },
  "language_info": {
   "codemirror_mode": {
    "name": "ipython",
    "version": 3
   },
   "file_extension": ".py",
   "mimetype": "text/x-python",
   "name": "python",
   "nbconvert_exporter": "python",
   "pygments_lexer": "ipython3",
   "version": "3.7.3"
  }
 },
 "nbformat": 4,
 "nbformat_minor": 5
}
