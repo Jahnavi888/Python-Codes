{
  "nbformat": 4,
  "nbformat_minor": 5,
  "metadata": {
    "kernelspec": {
      "display_name": "Python 3",
      "language": "python",
      "name": "python3"
    },
    "language_info": {
      "codemirror_mode": {
        "name": "ipython",
        "version": 3
      },
      "file_extension": ".py",
      "mimetype": "text/x-python",
      "name": "python",
      "nbconvert_exporter": "python",
      "pygments_lexer": "ipython3",
      "version": "3.8.8"
    },
    "colab": {
      "name": "Files.ipynb",
      "provenance": [],
      "collapsed_sections": []
    }
  },
  "cells": [
    {
      "cell_type": "code",
      "metadata": {
        "id": "70706d82",
        "colab": {
          "base_uri": "https://localhost:8080/"
        },
        "outputId": "2d9b3032-62cb-481c-de0e-71c39183d184"
      },
      "source": [
        "print (\"Hello I'm Jahnavi T\")"
      ],
      "id": "70706d82",
      "execution_count": 2,
      "outputs": [
        {
          "output_type": "stream",
          "name": "stdout",
          "text": [
            "Hello I'm Jahnavi T\n"
          ]
        }
      ]
    },
    {
      "cell_type": "code",
      "metadata": {
        "id": "be356047",
        "colab": {
          "base_uri": "https://localhost:8080/"
        },
        "outputId": "08f0d152-9574-46ce-a8f0-8ae93c791b95"
      },
      "source": [
        "str = input(\"Enter your input: \")\n",
        "print (\"The given input is : \", str)"
      ],
      "id": "be356047",
      "execution_count": 3,
      "outputs": [
        {
          "output_type": "stream",
          "name": "stdout",
          "text": [
            "Enter your input: Hello I'm Jahnavi T\n",
            "The given input is :  Hello I'm Jahnavi T\n"
          ]
        }
      ]
    },
    {
      "cell_type": "code",
      "metadata": {
        "id": "4800f68f",
        "colab": {
          "base_uri": "https://localhost:8080/"
        },
        "outputId": "211f7946-c5bf-4386-f940-fe81890b4aca"
      },
      "source": [
        "# Open a file\n",
        "fo = open(\"jahnavi.txt\", \"wb\")\n",
        "print (\"The file is : \", fo.name)\n",
        "\n",
        "# Close opend file\n",
        "fo.close()"
      ],
      "id": "4800f68f",
      "execution_count": 4,
      "outputs": [
        {
          "output_type": "stream",
          "name": "stdout",
          "text": [
            "The file is :  jahnavi.txt\n"
          ]
        }
      ]
    },
    {
      "cell_type": "code",
      "metadata": {
        "id": "ee78f4df",
        "colab": {
          "base_uri": "https://localhost:8080/"
        },
        "outputId": "6b2e2702-519a-4771-f49a-03e43f61fb17"
      },
      "source": [
        "f = open(\"jahnavi.txt\", \"a\")\n",
        "f.write(\"t\")\n",
        "f.close()\n",
        "\n",
        "#open and read the file after the appending:\n",
        "f = open(\"jahnavi.txt\", \"r\")\n",
        "print(f.read()) "
      ],
      "id": "ee78f4df",
      "execution_count": 9,
      "outputs": [
        {
          "output_type": "stream",
          "name": "stdout",
          "text": [
            "ttt\n"
          ]
        }
      ]
    },
    {
      "cell_type": "code",
      "metadata": {
        "id": "b7a5909b",
        "colab": {
          "base_uri": "https://localhost:8080/"
        },
        "outputId": "0bfb4a75-103a-4acf-fd4c-20de1f2abaae"
      },
      "source": [
        "# Open a file\n",
        "fo = open(\"jahnavi.txt\", \"r+\")\n",
        "str = fo.read(10);\n",
        "print (\"Read the sring : \", str)\n",
        "# Close opend file\n",
        "fo.close()"
      ],
      "id": "b7a5909b",
      "execution_count": 10,
      "outputs": [
        {
          "output_type": "stream",
          "name": "stdout",
          "text": [
            "Read the sring :  ttt\n"
          ]
        }
      ]
    },
    {
      "cell_type": "code",
      "metadata": {
        "id": "1b581901",
        "colab": {
          "base_uri": "https://localhost:8080/"
        },
        "outputId": "e6c5c01d-157b-427f-dd80-a614dc1fbd1b"
      },
      "source": [
        "fo = open(\"jahnavi.txt\", \"wb\")\n",
        "print (\"Name of the file: \", fo.name)\n",
        "print (\"Closed or not? : \", fo.closed)\n",
        "print (\"Opening mode : \", fo.mode)\n"
      ],
      "id": "1b581901",
      "execution_count": 11,
      "outputs": [
        {
          "output_type": "stream",
          "name": "stdout",
          "text": [
            "Name of the file:  jahnavi.txt\n",
            "Closed or not? :  False\n",
            "Opening mode :  wb\n"
          ]
        }
      ]
    },
    {
      "cell_type": "code",
      "metadata": {
        "id": "fe626966",
        "colab": {
          "base_uri": "https://localhost:8080/"
        },
        "outputId": "87fc3d8b-6f3a-4b35-d419-211fd75d0da8"
      },
      "source": [
        "# Open a file\n",
        "fo = open(\"cse7sem1.txt\", \"r+\")\n",
        "\n",
        "str = fo.read(10)\n",
        "print (\"Read String is : \", str) #shabnamsha---output\n",
        "\n",
        "# Check current position\n",
        "position = fo.tell()\n",
        "print (\"Current file position : \", position)\n",
        "\n",
        "# Reposition pointer at the beginning once again\n",
        "position = fo.seek(1, 0);\n",
        "str = fo.read(7)\n",
        "print (\"Again read String is : \", str)\n",
        "\n",
        "ptr=fo.seek(0,1)\n",
        "str1=fo.read(3)\n",
        "print(\"my new string= \", str1)\n",
        "\n",
        "# Close opened file\n",
        "fo.close()"
      ],
      "id": "fe626966",
      "execution_count": 17,
      "outputs": [
        {
          "output_type": "stream",
          "name": "stdout",
          "text": [
            "Read String is :  sharmashar\n",
            "Current file position :  10\n",
            "Again read String is :  harmash\n",
            "my new string=  arm\n"
          ]
        }
      ]
    }
  ]
}