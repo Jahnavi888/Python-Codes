{
 "cells": [
  {
   "cell_type": "code",
   "execution_count": 7,
   "metadata": {},
   "outputs": [
    {
     "name": "stdout",
     "output_type": "stream",
     "text": [
      "Hello I'm your expense manager!\n",
      "Enter the month to manage your expense : May\n",
      "Enter your income : 50000\n",
      "How many expenses did you have this month? 4\n",
      "My expenses this month are : \n",
      "1) Item: Furniture\n",
      "Cost: 10000\n",
      "2) Item: Household Items\n",
      "Cost: 10000\n",
      "3) Item: Decorative Items\n",
      "Cost: 5000\n",
      "4) Item: Gifts\n",
      "Cost: 10000\n",
      "Total expenditure in May is: 35000\n"
     ]
    }
   ],
   "source": [
    "import numpy as np\n",
    "print(\"Hello I'm your expense manager!\")\n",
    "m = input(\"Enter the month to manage your expense : \")\n",
    "inc=input(\"Enter your income : \")\n",
    "exp = int(input(\"How many expenses did you have this month? \"))\n",
    "print(\"My expenses this month are : \")\n",
    "expense = []\n",
    "cost = []\n",
    "for i in range(1, exp+1):\n",
    "  expense.append(input(str(i)+\") Item: \"))\n",
    "  cost.append(int(input(\"Cost: \")))\n",
    "costnp = np.array(cost)\n",
    "print(\"Total expenditure in \" + m + \" is: \" + str(np.sum(costnp)))\n"
   ]
  },
  {
   "cell_type": "code",
   "execution_count": null,
   "metadata": {},
   "outputs": [],
   "source": []
  }
 ],
 "metadata": {
  "kernelspec": {
   "display_name": "Python 3",
   "language": "python",
   "name": "python3"
  }
 },
 "nbformat": 4,
 "nbformat_minor": 2
}
