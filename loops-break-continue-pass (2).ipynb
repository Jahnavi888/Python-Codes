{
 "cells": [
  {
   "cell_type": "code",
   "execution_count": 1,
   "metadata": {},
   "outputs": [
    {
     "name": "stdout",
     "output_type": "stream",
     "text": [
      "J\n",
      "a\n",
      "h\n",
      "n\n",
      "a\n",
      "v\n",
      "i\n"
     ]
    }
   ],
   "source": [
    "    str = \"Jahnavi\"  \n",
    "    for i in str:  \n",
    "        print(i)  "
   ]
  },
  {
   "cell_type": "code",
   "execution_count": 2,
   "metadata": {},
   "outputs": [
    {
     "name": "stdout",
     "output_type": "stream",
     "text": [
      "8  * 1  = 8\n",
      "8  * 2  = 16\n",
      "8  * 3  = 24\n",
      "8  * 4  = 32\n",
      "8  * 5  = 40\n",
      "8  * 6  = 48\n",
      "8  * 7  = 56\n",
      "8  * 8  = 64\n",
      "8  * 9  = 72\n",
      "8  * 10  = 80\n"
     ]
    }
   ],
   "source": [
    "    list = [1,2,3,4,5,6,7,8,9,10]  \n",
    "    n = 8 \n",
    "    for i in list:  \n",
    "        c = n*i  \n",
    "        print(n,\" *\",i, \" =\", c)  "
   ]
  },
  {
   "cell_type": "code",
   "execution_count": 3,
   "metadata": {},
   "outputs": [
    {
     "name": "stdout",
     "output_type": "stream",
     "text": [
      "The sum is: 120\n"
     ]
    }
   ],
   "source": [
    "    list = [8,16,24,32,40]  \n",
    "    sum = 0  \n",
    "    for i in list:  \n",
    "        sum = sum+i  \n",
    "    print(\"The sum is:\",sum)  "
   ]
  },
  {
   "cell_type": "code",
   "execution_count": 4,
   "metadata": {},
   "outputs": [
    {
     "name": "stdout",
     "output_type": "stream",
     "text": [
      "0 1 2 3 4 5 6 7 8 9 "
     ]
    }
   ],
   "source": [
    "    for i in range(10):  \n",
    "        print(i,end=' ')  "
   ]
  },
  {
   "cell_type": "code",
   "execution_count": 5,
   "metadata": {},
   "outputs": [
    {
     "name": "stdout",
     "output_type": "stream",
     "text": [
      "Enter a number: 10\n",
      "10 * 1 = 10\n",
      "10 * 2 = 20\n",
      "10 * 3 = 30\n",
      "10 * 4 = 40\n",
      "10 * 5 = 50\n",
      "10 * 6 = 60\n",
      "10 * 7 = 70\n",
      "10 * 8 = 80\n",
      "10 * 9 = 90\n",
      "10 * 10 = 100\n"
     ]
    }
   ],
   "source": [
    "    n = int(input(\"Enter a number: \"))  \n",
    "    for i in range(1,11):  \n",
    "        c = n*i  \n",
    "        print(n,\"*\",i,\"=\",c)  "
   ]
  },
  {
   "cell_type": "code",
   "execution_count": 6,
   "metadata": {},
   "outputs": [
    {
     "name": "stdout",
     "output_type": "stream",
     "text": [
      "Enter a number: 7\n",
      "2\n",
      "4\n",
      "6\n"
     ]
    }
   ],
   "source": [
    "    n = int(input(\"Enter a number: \"))  \n",
    "    for i in range(2,n,2):  \n",
    "        print(i)  "
   ]
  },
  {
   "cell_type": "code",
   "execution_count": 7,
   "metadata": {},
   "outputs": [
    {
     "name": "stdout",
     "output_type": "stream",
     "text": [
      "Hello Honey\n",
      "Hello Dolly\n",
      "Hello TSR\n",
      "Hello Chinnari\n"
     ]
    }
   ],
   "source": [
    "    list = ['Honey','Dolly','TSR','Chinnari']  \n",
    "    for i in range(len(list)):  \n",
    "        print(\"Hello\",list[i])  "
   ]
  },
  {
   "cell_type": "code",
   "execution_count": 8,
   "metadata": {},
   "outputs": [
    {
     "name": "stdout",
     "output_type": "stream",
     "text": [
      "0\n",
      "1\n",
      "2\n",
      "3\n",
      "4\n",
      "5\n",
      "6\n",
      "7\n",
      "For loop is completely exhausted, since there is no break\n"
     ]
    }
   ],
   "source": [
    "    for i in range(0,8):    \n",
    "        print(i)    \n",
    "    else:  \n",
    "        print(\"For loop is completely exhausted, since there is no break\")  "
   ]
  },
  {
   "cell_type": "code",
   "execution_count": 9,
   "metadata": {},
   "outputs": [
    {
     "name": "stdout",
     "output_type": "stream",
     "text": [
      "0\n",
      "Hi\n",
      "1\n",
      "Hi\n",
      "2\n",
      "Hi\n",
      "3\n",
      "Hi\n",
      "4\n",
      "Hi\n",
      "5\n",
      "Hi\n",
      "6\n",
      "Hi\n",
      "For loop is exhausted\n",
      "The loop is broken due to break statement, it came out of the loop\n"
     ]
    }
   ],
   "source": [
    "    for i in range(0,7):    \n",
    "        print(i)    \n",
    "        print(\"Hi\")\n",
    "        continue;    \n",
    "        print(\"Hello\")\n",
    "    else:print(\"For loop is exhausted\");    \n",
    "    print(\"The loop is broken due to break statement, it came out of the loop\")    "
   ]
  },
  {
   "cell_type": "code",
   "execution_count": 10,
   "metadata": {},
   "outputs": [
    {
     "name": "stdout",
     "output_type": "stream",
     "text": [
      "Jahnavi T\n",
      "Entered while loop before if statement\n",
      "Current Letter : J\n",
      "Going back to starting of while loop\n",
      "Entered while loop before if statement\n",
      "Entered if statement\n",
      "i incremented\n",
      "Entered while loop before if statement\n",
      "Current Letter : h\n",
      "Going back to starting of while loop\n",
      "Entered while loop before if statement\n",
      "Current Letter : n\n",
      "Going back to starting of while loop\n",
      "Entered while loop before if statement\n",
      "Entered if statement\n",
      "i incremented\n",
      "Entered while loop before if statement\n",
      "Current Letter : v\n",
      "Going back to starting of while loop\n",
      "Entered while loop before if statement\n",
      "Current Letter : i\n",
      "Going back to starting of while loop\n",
      "Entered while loop before if statement\n",
      "Current Letter :  \n",
      "Going back to starting of while loop\n",
      "Entered while loop before if statement\n",
      "Current Letter : T\n",
      "Going back to starting of while loop\n"
     ]
    }
   ],
   "source": [
    "    # prints all letters except 'a' and 't'   \n",
    "    i = 0  \n",
    "    str1 = 'Jahnavi T'  \n",
    "    print(str1)\n",
    "    while i < len(str1):\n",
    "        print('Entered while loop before if statement')\n",
    "        if str1[i] == 'a' or str1[i] == 'u':   \n",
    "            print('Entered if statement')\n",
    "            i += 1  \n",
    "            print('i incremented')\n",
    "            continue  \n",
    "            print('After continue')\n",
    "        print('Current Letter :', str1[i])   \n",
    "        i += 1 \n",
    "        print('Going back to starting of while loop')"
   ]
  },
  {
   "cell_type": "code",
   "execution_count": 12,
   "metadata": {},
   "outputs": [
    {
     "name": "stdout",
     "output_type": "stream",
     "text": [
      "Current Letter : J\n",
      "Current Letter : a\n",
      "Current Letter : h\n"
     ]
    }
   ],
   "source": [
    "i = 0  \n",
    "str1 = 'Jahnavi'  \n",
    "  \n",
    "while i < len(str1):   \n",
    "    if str1[i] == 'n':   \n",
    "        i += 1  \n",
    "        break  \n",
    "    print('Current Letter :', str1[i])   \n",
    "    i += 1  "
   ]
  },
  {
   "cell_type": "code",
   "execution_count": 13,
   "metadata": {},
   "outputs": [
    {
     "name": "stdout",
     "output_type": "stream",
     "text": [
      "Value of i : 7\n"
     ]
    }
   ],
   "source": [
    "#The pass statement is used to declare the empty loop. \n",
    "#It is also used to define empty class, function, and control statement.\n",
    "\n",
    "str1 = 'Jahnavi'  \n",
    "i = 0  \n",
    "  \n",
    "while i < len(str1):   \n",
    "    i += 1  \n",
    "    pass  \n",
    "print('Value of i :', i)  "
   ]
  },
  {
   "cell_type": "code",
   "execution_count": 14,
   "metadata": {},
   "outputs": [
    {
     "name": "stdout",
     "output_type": "stream",
     "text": [
      "1\n",
      "2\n",
      "3\n",
      "4\n",
      "5\n",
      "6\n",
      "7\n",
      "8\n",
      "9\n",
      "10\n"
     ]
    }
   ],
   "source": [
    "    i=1  \n",
    "    #The while loop will iterate until condition becomes false.  \n",
    "    while(i<=10):    \n",
    "        print(i)   \n",
    "        i=i+1   "
   ]
  },
  {
   "cell_type": "code",
   "execution_count": 1,
   "metadata": {},
   "outputs": [
    {
     "name": "stdout",
     "output_type": "stream",
     "text": [
      "Enter a number: 8\n",
      "8 X 1 = 8 \n",
      "\n",
      "8 X 2 = 16 \n",
      "\n",
      "8 X 3 = 24 \n",
      "\n",
      "8 X 4 = 32 \n",
      "\n",
      "8 X 5 = 40 \n",
      "\n",
      "8 X 6 = 48 \n",
      "\n",
      "8 X 7 = 56 \n",
      "\n",
      "8 X 8 = 64 \n",
      "\n",
      "8 X 9 = 72 \n",
      "\n",
      "8 X 10 = 80 \n",
      "\n"
     ]
    }
   ],
   "source": [
    "    i=1    \n",
    "    number = int(input(\"Enter a number: \"))    \n",
    "    while i<=10:    \n",
    "        print(\"%d X %d = %d \\n\"%(number,i,number*i))    \n",
    "        i = i+1    "
   ]
  },
  {
   "cell_type": "code",
   "execution_count": 2,
   "metadata": {},
   "outputs": [],
   "source": [
    "#while (1):    \n",
    "    #print(\"Hi! we are inside the infinite while loop\") "
   ]
  },
  {
   "cell_type": "code",
   "execution_count": null,
   "metadata": {},
   "outputs": [
    {
     "name": "stdout",
     "output_type": "stream",
     "text": [
      "Enter a number: 4\n",
      "Entered value is 4\n",
      "Enter a number: 8\n",
      "Entered value is 8\n",
      "Enter a number: 5\n",
      "Entered value is 5\n",
      "Enter a number: 0\n",
      "Entered value is 0\n",
      "Enter a number: 2\n",
      "Entered value is 2\n",
      "Enter a number: 9\n",
      "Entered value is 9\n"
     ]
    }
   ],
   "source": [
    "    var = 1    \n",
    "    while(var != 2):    \n",
    "        i = int(input(\"Enter a number: \"))    \n",
    "        print(\"Entered value is %d\"%(i))  \n"
   ]
  },
  {
   "cell_type": "code",
   "execution_count": null,
   "metadata": {},
   "outputs": [],
   "source": [
    "i=1   \n",
    "while(i<=5):    \n",
    "    print(i)    \n",
    "    i=i+1    \n",
    "else:  \n",
    "    print(\"The while loop is exhausted\")"
   ]
  },
  {
   "cell_type": "code",
   "execution_count": 24,
   "metadata": {},
   "outputs": [
    {
     "name": "stdout",
     "output_type": "stream",
     "text": [
      "1\n",
      "2\n",
      "bye bye\n"
     ]
    }
   ],
   "source": [
    "i=1    \n",
    "while(i<=5):    \n",
    "    print(i)    \n",
    "    i=i+1    \n",
    "    if(i==3):    \n",
    "        break   \n",
    "else:  \n",
    "    print(\"The while loop exhausted\")\n",
    "print(\"bye bye\")\n",
    "    "
   ]
  },
  {
   "cell_type": "code",
   "execution_count": 3,
   "metadata": {},
   "outputs": [
    {
     "name": "stdout",
     "output_type": "stream",
     "text": [
      "item matched\n",
      "found at 2 location\n"
     ]
    }
   ],
   "source": [
    "    list =[1,2,3,4]  \n",
    "    i=1;\n",
    "    count = 1;  \n",
    "    for i in list:  \n",
    "        if i == 4:  \n",
    "            print(\"item matched\")  \n",
    "            count = count + 1;  \n",
    "            break  \n",
    "    print(\"found at\",count,\"location\");  "
   ]
  },
  {
   "cell_type": "code",
   "execution_count": 25,
   "metadata": {},
   "outputs": [
    {
     "name": "stdout",
     "output_type": "stream",
     "text": [
      "p\n",
      "y\n",
      "t\n",
      "h\n"
     ]
    }
   ],
   "source": [
    "    str = \"python\"  \n",
    "    for i in str:  \n",
    "        if i == 'o':  \n",
    "            break  \n",
    "        print(i);  "
   ]
  },
  {
   "cell_type": "code",
   "execution_count": 6,
   "metadata": {},
   "outputs": [
    {
     "name": "stdout",
     "output_type": "stream",
     "text": [
      "2 X 1 = 2\n",
      "\n",
      "2 X 2 = 4\n",
      "\n",
      "2 X 3 = 6\n",
      "\n",
      "2 X 4 = 8\n",
      "\n",
      "2 X 5 = 10\n",
      "\n",
      "2 X 6 = 12\n",
      "\n",
      "2 X 7 = 14\n",
      "\n",
      "2 X 8 = 16\n",
      "\n",
      "2 X 9 = 18\n",
      "\n",
      "2 X 10 = 20\n",
      "\n",
      "Do you want to continue printing the table, press 0 for no?1\n",
      "3 X 1 = 3\n",
      "\n",
      "3 X 2 = 6\n",
      "\n",
      "3 X 3 = 9\n",
      "\n",
      "3 X 4 = 12\n",
      "\n",
      "3 X 5 = 15\n",
      "\n",
      "3 X 6 = 18\n",
      "\n",
      "3 X 7 = 21\n",
      "\n",
      "3 X 8 = 24\n",
      "\n",
      "3 X 9 = 27\n",
      "\n",
      "3 X 10 = 30\n",
      "\n",
      "Do you want to continue printing the table, press 0 for no?1\n",
      "4 X 1 = 4\n",
      "\n",
      "4 X 2 = 8\n",
      "\n",
      "4 X 3 = 12\n",
      "\n",
      "4 X 4 = 16\n",
      "\n",
      "4 X 5 = 20\n",
      "\n",
      "4 X 6 = 24\n",
      "\n",
      "4 X 7 = 28\n",
      "\n",
      "4 X 8 = 32\n",
      "\n",
      "4 X 9 = 36\n",
      "\n",
      "4 X 10 = 40\n",
      "\n",
      "Do you want to continue printing the table, press 0 for no?0\n"
     ]
    }
   ],
   "source": [
    "    n=2  \n",
    "    while 1:  \n",
    "        i=1;  \n",
    "        while i<=10:  \n",
    "            print(\"%d X %d = %d\\n\"%(n,i,n*i));  \n",
    "            i = i+1;  \n",
    "        choice = int(input(\"Do you want to continue printing the table, press 0 for no?\"))  \n",
    "        if choice == 0:  \n",
    "            break;      \n",
    "        n=n+1  "
   ]
  },
  {
   "cell_type": "code",
   "execution_count": 7,
   "metadata": {},
   "outputs": [
    {
     "name": "stdout",
     "output_type": "stream",
     "text": [
      "1\n",
      "2\n",
      "3\n",
      "4\n",
      "6\n",
      "7\n",
      "8\n",
      "9\n",
      "10\n"
     ]
    }
   ],
   "source": [
    "    i = 0                     \n",
    "    while(i < 10):                \n",
    "       i = i+1  \n",
    "       if(i == 5):  \n",
    "          continue  \n",
    "       print(i)  "
   ]
  },
  {
   "cell_type": "code",
   "execution_count": null,
   "metadata": {},
   "outputs": [],
   "source": [
    "    str = \"Jahnavi\"  \n",
    "    for i in str:  \n",
    "        if(i == 'n'):  \n",
    "            continue  \n",
    "        print(i)  "
   ]
  },
  {
   "cell_type": "code",
   "execution_count": 9,
   "metadata": {},
   "outputs": [
    {
     "name": "stdout",
     "output_type": "stream",
     "text": [
      "Current element: 1 Current element: 2 Current element: 3 \n",
      "We are inside pass block\n",
      "\n",
      "\n",
      "Came out of pass\n",
      "\n",
      "Current element: 4 Current element: 5 "
     ]
    }
   ],
   "source": [
    "    list = [1,2,3,4,5]    \n",
    "    flag = 0    \n",
    "    for i in list:    \n",
    "        print(\"Current element:\",i,end=\" \");    \n",
    "        if i==3:    \n",
    "            pass    \n",
    "            print(\"\\nWe are inside pass block\\n\");    \n",
    "            flag = 1    \n",
    "        if flag==1:    \n",
    "            print(\"\\nCame out of pass\\n\");    \n",
    "            flag=0   "
   ]
  },
  {
   "cell_type": "code",
   "execution_count": 10,
   "metadata": {},
   "outputs": [],
   "source": [
    "values = {'P', 'y', 't', 'h','o','n'}  \n",
    "for val in values:  \n",
    "    pass  "
   ]
  },
  {
   "cell_type": "code",
   "execution_count": 11,
   "metadata": {},
   "outputs": [
    {
     "name": "stdout",
     "output_type": "stream",
     "text": [
      "1\n",
      "2\n",
      "3\n",
      "This is pass block 4\n",
      "4\n",
      "5\n"
     ]
    }
   ],
   "source": [
    "    for i in [1,2,3,4,5]:   \n",
    "        if(i==4):  \n",
    "            pass  \n",
    "            print(\"This is pass block\",i)  \n",
    "        print(i)  "
   ]
  },
  {
   "cell_type": "code",
   "execution_count": null,
   "metadata": {},
   "outputs": [],
   "source": []
  }
 ],
 "metadata": {
  "kernelspec": {
   "display_name": "Python 3",
   "language": "python",
   "name": "python3"
  },
  "language_info": {
   "codemirror_mode": {
    "name": "ipython",
    "version": 3
   },
   "file_extension": ".py",
   "mimetype": "text/x-python",
   "name": "python",
   "nbconvert_exporter": "python",
   "pygments_lexer": "ipython3",
   "version": "3.7.3"
  }
 },
 "nbformat": 4,
 "nbformat_minor": 5
}
