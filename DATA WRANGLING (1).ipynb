{
 "cells": [
  {
   "cell_type": "code",
   "execution_count": 1,
   "metadata": {},
   "outputs": [
    {
     "data": {
      "text/html": [
       "<div>\n",
       "<style scoped>\n",
       "    .dataframe tbody tr th:only-of-type {\n",
       "        vertical-align: middle;\n",
       "    }\n",
       "\n",
       "    .dataframe tbody tr th {\n",
       "        vertical-align: top;\n",
       "    }\n",
       "\n",
       "    .dataframe thead th {\n",
       "        text-align: right;\n",
       "    }\n",
       "</style>\n",
       "<table border=\"1\" class=\"dataframe\">\n",
       "  <thead>\n",
       "    <tr style=\"text-align: right;\">\n",
       "      <th></th>\n",
       "      <th>Name</th>\n",
       "      <th>Age</th>\n",
       "      <th>Gender</th>\n",
       "      <th>Marks</th>\n",
       "    </tr>\n",
       "  </thead>\n",
       "  <tbody>\n",
       "    <tr>\n",
       "      <th>0</th>\n",
       "      <td>Honey</td>\n",
       "      <td>20</td>\n",
       "      <td>F</td>\n",
       "      <td>90</td>\n",
       "    </tr>\n",
       "    <tr>\n",
       "      <th>1</th>\n",
       "      <td>Dolly</td>\n",
       "      <td>18</td>\n",
       "      <td>F</td>\n",
       "      <td>76</td>\n",
       "    </tr>\n",
       "    <tr>\n",
       "      <th>2</th>\n",
       "      <td>TSR</td>\n",
       "      <td>41</td>\n",
       "      <td>M</td>\n",
       "      <td>NaN</td>\n",
       "    </tr>\n",
       "    <tr>\n",
       "      <th>3</th>\n",
       "      <td>Chinnari</td>\n",
       "      <td>50</td>\n",
       "      <td>F</td>\n",
       "      <td>84</td>\n",
       "    </tr>\n",
       "  </tbody>\n",
       "</table>\n",
       "</div>"
      ],
      "text/plain": [
       "       Name  Age Gender Marks\n",
       "0     Honey   20      F    90\n",
       "1     Dolly   18      F    76\n",
       "2       TSR   41      M   NaN\n",
       "3  Chinnari   50      F    84"
      ]
     },
     "execution_count": 1,
     "metadata": {},
     "output_type": "execute_result"
    }
   ],
   "source": [
    "# Import pandas package\n",
    "import pandas as pd\n",
    "\n",
    "# Assign data\n",
    "data = {'Name': ['Honey', 'Dolly', 'TSR',\n",
    "\t\t\t\t'Chinnari'],\n",
    "\t\t'Age': [20,18,41,50],\n",
    "\t\t'Gender': ['F','F','M','F'],\n",
    "\t\t'Marks': [90, 76, 'NaN', 84]}\n",
    "\n",
    "# Convert into DataFrame\n",
    "df = pd.DataFrame(data)\n",
    "\n",
    "# Display data\n",
    "df\n"
   ]
  },
  {
   "cell_type": "code",
   "execution_count": 2,
   "metadata": {},
   "outputs": [
    {
     "data": {
      "text/html": [
       "<div>\n",
       "<style scoped>\n",
       "    .dataframe tbody tr th:only-of-type {\n",
       "        vertical-align: middle;\n",
       "    }\n",
       "\n",
       "    .dataframe tbody tr th {\n",
       "        vertical-align: top;\n",
       "    }\n",
       "\n",
       "    .dataframe thead th {\n",
       "        text-align: right;\n",
       "    }\n",
       "</style>\n",
       "<table border=\"1\" class=\"dataframe\">\n",
       "  <thead>\n",
       "    <tr style=\"text-align: right;\">\n",
       "      <th></th>\n",
       "      <th>Name</th>\n",
       "      <th>Age</th>\n",
       "      <th>Gender</th>\n",
       "      <th>Marks</th>\n",
       "    </tr>\n",
       "  </thead>\n",
       "  <tbody>\n",
       "    <tr>\n",
       "      <th>0</th>\n",
       "      <td>Honey</td>\n",
       "      <td>20</td>\n",
       "      <td>F</td>\n",
       "      <td>90.000000</td>\n",
       "    </tr>\n",
       "    <tr>\n",
       "      <th>1</th>\n",
       "      <td>Dolly</td>\n",
       "      <td>18</td>\n",
       "      <td>F</td>\n",
       "      <td>76.000000</td>\n",
       "    </tr>\n",
       "    <tr>\n",
       "      <th>2</th>\n",
       "      <td>TSR</td>\n",
       "      <td>41</td>\n",
       "      <td>M</td>\n",
       "      <td>83.333333</td>\n",
       "    </tr>\n",
       "    <tr>\n",
       "      <th>3</th>\n",
       "      <td>Chinnari</td>\n",
       "      <td>50</td>\n",
       "      <td>F</td>\n",
       "      <td>84.000000</td>\n",
       "    </tr>\n",
       "  </tbody>\n",
       "</table>\n",
       "</div>"
      ],
      "text/plain": [
       "       Name  Age Gender      Marks\n",
       "0     Honey   20      F  90.000000\n",
       "1     Dolly   18      F  76.000000\n",
       "2       TSR   41      M  83.333333\n",
       "3  Chinnari   50      F  84.000000"
      ]
     },
     "execution_count": 2,
     "metadata": {},
     "output_type": "execute_result"
    }
   ],
   "source": [
    "# Compute average\n",
    "c = avg = 0\n",
    "for ele in df['Marks']:\n",
    "\tif str(ele).isnumeric():\n",
    "\t\tc += 1\n",
    "\t\tavg += ele\n",
    "avg /= c\n",
    "\n",
    "# Replace missing values\n",
    "df = df.replace(to_replace=\"NaN\",\n",
    "\t\t\t\tvalue=avg)\n",
    "\n",
    "# Display data\n",
    "df\n"
   ]
  },
  {
   "cell_type": "code",
   "execution_count": 5,
   "metadata": {},
   "outputs": [
    {
     "name": "stdout",
     "output_type": "stream",
     "text": [
      "    ID      NAME BRANCH\n",
      "0  101     Honey    CSE\n",
      "1  102     Dolly     IT\n",
      "2  103       TSR   MECH\n",
      "3  104  Chinnari    ECE\n"
     ]
    }
   ],
   "source": [
    "# import module\n",
    "import pandas as pd\n",
    "\n",
    "# creating DataFrame for Student Details\n",
    "details = pd.DataFrame({\n",
    "\t'ID': [101, 102, 103, 104],\n",
    "\t'NAME': ['Honey','Dolly','TSR','Chinnari'],\n",
    "\t'BRANCH': ['CSE', 'IT', 'MECH', 'ECE']})\n",
    "\n",
    "# printing details\n",
    "print(details)\n"
   ]
  },
  {
   "cell_type": "code",
   "execution_count": 6,
   "metadata": {},
   "outputs": [
    {
     "name": "stdout",
     "output_type": "stream",
     "text": [
      "    ID      NAME PENDING\n",
      "0  101     Honey    5000\n",
      "1  102     Dolly     250\n",
      "2  103       TSR     NIL\n",
      "3  104  Chinnari    9000\n"
     ]
    }
   ],
   "source": [
    "# Import module\n",
    "import pandas as pd\n",
    "\n",
    "# Creating Dataframe for Fees_Status\n",
    "fees_status = pd.DataFrame(\n",
    "\t{'ID': [101, 102, 103, 104],\n",
    "\t'NAME': ['Honey','Dolly','TSR','Chinnari'],\n",
    "\t'PENDING': ['5000', '250', 'NIL',\n",
    "\t\t\t\t'9000']})\n",
    "\n",
    "# Printing fees_status\n",
    "print(fees_status)\n"
   ]
  },
  {
   "cell_type": "code",
   "execution_count": 9,
   "metadata": {},
   "outputs": [
    {
     "name": "stdout",
     "output_type": "stream",
     "text": [
      "    ID      NAME BRANCH PENDING\n",
      "0  101     Honey    CSE    5000\n",
      "1  102     Dolly     IT     250\n",
      "2  103       TSR   MECH     NIL\n",
      "3  104  Chinnari    ECE    9000\n"
     ]
    }
   ],
   "source": [
    "# Import module\n",
    "import pandas as pd\n",
    "\n",
    "# Creating Dataframe\n",
    "details = pd.DataFrame({\n",
    "\t'ID': [101, 102, 103, 104],\n",
    "\t'NAME': ['Honey','Dolly','TSR','Chinnari'],\n",
    "\t'BRANCH': ['CSE', 'IT', 'MECH', 'ECE']})\n",
    "# Creating Dataframe\n",
    "fees_status = pd.DataFrame(\n",
    "\t{'ID': [101, 102, 103, 104],\n",
    "\t'PENDING': ['5000', '250', 'NIL',\n",
    "\t\t\t\t'9000']})\n",
    "\n",
    "# Merging Dataframe\n",
    "print(pd.merge(details, fees_status, on='ID'))\n"
   ]
  },
  {
   "cell_type": "code",
   "execution_count": 6,
   "metadata": {},
   "outputs": [
    {
     "name": "stdout",
     "output_type": "stream",
     "text": [
      "       Brand  Year  Sold\n",
      "0     Maruti  2010     6\n",
      "1     Maruti  2011     7\n",
      "2     Maruti  2009     9\n",
      "3     Maruti  2013     8\n",
      "4    Hyundai  2010     3\n",
      "5    Hyundai  2011     5\n",
      "6     Toyota  2011     2\n",
      "7   Mahindra  2010     8\n",
      "8   Mahindra  2013     7\n",
      "9       Ford  2010     2\n",
      "10    Toyota  2010     4\n",
      "11      Ford  2011     2\n"
     ]
    }
   ],
   "source": [
    "# Import module\n",
    "import pandas as pd\n",
    "\n",
    "# Creating Data\n",
    "car_selling_data = {'Brand': ['Maruti', 'Maruti', 'Maruti',\n",
    "\t\t\t\t\t\t\t'Maruti', 'Hyundai', 'Hyundai',\n",
    "\t\t\t\t\t\t\t'Toyota', 'Mahindra', 'Mahindra',\n",
    "\t\t\t\t\t\t\t'Ford', 'Toyota', 'Ford'],\n",
    "\t\t\t\t\t'Year': [2010, 2011, 2009, 2013,\n",
    "\t\t\t\t\t\t\t2010, 2011, 2011, 2010,\n",
    "\t\t\t\t\t\t\t2013, 2010, 2010, 2011],\n",
    "\t\t\t\t\t'Sold': [6, 7, 9, 8, 3, 5,\n",
    "\t\t\t\t\t\t\t2, 8, 7, 2, 4, 2]}\n",
    "\n",
    "# Creating Dataframe of car_selling_data\n",
    "df = pd.DataFrame(car_selling_data)\n",
    "\n",
    "# printing Dataframe\n",
    "print(df)\n"
   ]
  },
  {
   "cell_type": "code",
   "execution_count": 7,
   "metadata": {},
   "outputs": [
    {
     "name": "stdout",
     "output_type": "stream",
     "text": [
      "       Brand  Year  Sold\n",
      "0     Maruti  2010     6\n",
      "4    Hyundai  2010     3\n",
      "7   Mahindra  2010     8\n",
      "9       Ford  2010     2\n",
      "10    Toyota  2010     4\n"
     ]
    }
   ],
   "source": [
    "# Import module\n",
    "import pandas as pd\n",
    "\n",
    "# Creating Data\n",
    "car_selling_data = {'Brand': ['Maruti', 'Maruti', 'Maruti',\n",
    "\t\t\t\t\t\t\t'Maruti', 'Hyundai', 'Hyundai',\n",
    "\t\t\t\t\t\t\t'Toyota', 'Mahindra', 'Mahindra',\n",
    "\t\t\t\t\t\t\t'Ford', 'Toyota', 'Ford'],\n",
    "\t\t\t\t\t'Year': [2010, 2011, 2009, 2013,\n",
    "\t\t\t\t\t\t\t2010, 2011, 2011, 2010,\n",
    "\t\t\t\t\t\t\t2013, 2010, 2010, 2011],\n",
    "\t\t\t\t\t'Sold': [6, 7, 9, 8, 3, 5,\n",
    "\t\t\t\t\t\t\t2, 8, 7, 2, 4, 2]}\n",
    "\n",
    "# Creating Dataframe for Provided Data\n",
    "df = pd.DataFrame(car_selling_data)\n",
    "\n",
    "# Group the data when year = 2010\n",
    "grouped = df.groupby('Year')\n",
    "print(grouped.get_group(2010))\n"
   ]
  },
  {
   "cell_type": "code",
   "execution_count": 10,
   "metadata": {},
   "outputs": [
    {
     "name": "stdout",
     "output_type": "stream",
     "text": [
      "       NAME  Roll_no               Email\n",
      "0     Honey       44     honey@gmail.com\n",
      "1     Dolly       45      dolly@mail.com\n",
      "2       TSR       46       tsr@gmail.com\n",
      "3  Chinnari       47  chinnari@gmail.com\n"
     ]
    }
   ],
   "source": [
    "# Import module\n",
    "import pandas as pd\n",
    "\n",
    "# Initializing Data\n",
    "student_data = {'NAME': ['Honey','Dolly','TSR','Chinnari'],\n",
    "\n",
    "\t\t\t\t'Roll_no': [44,45,46,47],\n",
    "\n",
    "\t\t\t\t'Email': ['honey@gmail.com','dolly@mail.com','tsr@gmail.com','chinnari@gmail.com']}\n",
    "\n",
    "# Creating Dataframe of Data\n",
    "df = pd.DataFrame(student_data)\n",
    "\n",
    "# Printing Dataframe\n",
    "print(df)\n"
   ]
  },
  {
   "cell_type": "code",
   "execution_count": 11,
   "metadata": {},
   "outputs": [
    {
     "name": "stdout",
     "output_type": "stream",
     "text": [
      "       NAME  Roll_no               Email\n",
      "0     Honey       44     honey@gmail.com\n",
      "1     Dolly       45      dolly@mail.com\n",
      "2       TSR       46       tsr@gmail.com\n",
      "3  Chinnari       47  chinnari@gmail.com\n"
     ]
    }
   ],
   "source": [
    "# import module\n",
    "import pandas as pd\n",
    "\n",
    "# initializing Data\n",
    "student_data = {'NAME': ['Honey','Dolly','TSR','Chinnari'],\n",
    "\n",
    "\t\t\t\t'Roll_no': [44,45,46,47],\n",
    "\n",
    "\t\t\t\t'Email': ['honey@gmail.com','dolly@mail.com','tsr@gmail.com','chinnari@gmail.com']}\n",
    "\n",
    "# creating dataframe\n",
    "df = pd.DataFrame(student_data)\n",
    "\n",
    "# Here df.duplicated() list duplicate Entries in ROllno.\n",
    "# So that ~(NOT) is placed in order to get non duplicate values.\n",
    "non_duplicate = df[~df.duplicated('Roll_no')]\n",
    "\n",
    "# printing non-duplicate values\n",
    "print(non_duplicate)\n"
   ]
  },
  {
   "cell_type": "code",
   "execution_count": null,
   "metadata": {},
   "outputs": [],
   "source": []
  }
 ],
 "metadata": {
  "kernelspec": {
   "display_name": "Python 3",
   "language": "python",
   "name": "python3"
  },
  "language_info": {
   "codemirror_mode": {
    "name": "ipython",
    "version": 3
   },
   "file_extension": ".py",
   "mimetype": "text/x-python",
   "name": "python",
   "nbconvert_exporter": "python",
   "pygments_lexer": "ipython3",
   "version": "3.7.3"
  }
 },
 "nbformat": 4,
 "nbformat_minor": 5
}
