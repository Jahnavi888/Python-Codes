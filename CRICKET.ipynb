{
 "cells": [
  {
   "cell_type": "code",
   "execution_count": 1,
   "metadata": {},
   "outputs": [
    {
     "name": "stdout",
     "output_type": "stream",
     "text": [
      "     NAME  AGE  MATCHES  2010  2011  2012  2013  FOURS  SIXES  STRIKERATE\n",
      "0     MSD   40        4    50    60    80    20     12      4         130\n",
      "1   VIRAT   32        4    60    65    75    40     10      3         135\n",
      "2   ROHIT   34        4    40    70    79    26      9      6         120\n",
      "3  JADEJA   32        4    30    44    14    46     10      4         150 \n",
      "\n",
      "Enter the year to know who scored the highest runs : 2013\n",
      "JADEJA\n"
     ]
    }
   ],
   "source": [
    "import pandas as pd\n",
    "import numpy as np\n",
    "values_list = [['MSD',40,4,50,60,80,20,12,4,130], ['VIRAT',32,4,60,65,75,40,10,3,135],['ROHIT',34,4,40,70,79,26,9,6,120],['JADEJA',32,4,30,44,14,46,10,4,150]]\n",
    "df = pd.DataFrame(values_list, columns=['NAME', 'AGE', 'MATCHES',2010,2011,2012,2013,'FOURS','SIXES','STRIKERATE'])\n",
    "print(df,\"\\n\")\n",
    "y1=int(input(\"Enter the year to know who scored the highest runs : \"))\n",
    "ye1=2010\n",
    "ye2=2011\n",
    "ye3=2012\n",
    "ye4=2013\n",
    "if y1==ye1:\n",
    "    print(\"VIRAT\")\n",
    "elif y1==ye2:\n",
    "    print(\"ROHIT\")\n",
    "elif y1==ye3:\n",
    "    print(\"MSD\")\n",
    "else:\n",
    "    print(\"JADEJA\")"
   ]
  },
  {
   "cell_type": "code",
   "execution_count": null,
   "metadata": {},
   "outputs": [],
   "source": []
  }
 ],
 "metadata": {
  "kernelspec": {
   "display_name": "Python 3",
   "language": "python",
   "name": "python3"
  },
  "language_info": {
   "codemirror_mode": {
    "name": "ipython",
    "version": 3
   },
   "file_extension": ".py",
   "mimetype": "text/x-python",
   "name": "python",
   "nbconvert_exporter": "python",
   "pygments_lexer": "ipython3",
   "version": "3.7.3"
  }
 },
 "nbformat": 4,
 "nbformat_minor": 2
}
