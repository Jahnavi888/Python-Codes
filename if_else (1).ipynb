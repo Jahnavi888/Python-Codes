{
 "cells": [
  {
   "cell_type": "code",
   "execution_count": 2,
   "metadata": {
    "id": "67a198ab",
    "outputId": "24a0ea7d-d4d6-48ae-e61a-0ccbc95439a6"
   },
   "outputs": [
    {
     "name": "stdout",
     "output_type": "stream",
     "text": [
      "Enter a number8\n",
      "Number is even\n",
      "Done\n"
     ]
    }
   ],
   "source": [
    "#Objective: To check whether the number is prime\n",
    "num = int(input(\"Enter a number\"))  \n",
    "if num%2 == 0:  \n",
    "    print(\"Number is even\")\n",
    "print(\"Done\")\n",
    "        "
   ]
  },
  {
   "cell_type": "code",
   "execution_count": 3,
   "metadata": {
    "id": "e81e7abc",
    "outputId": "30a03d15-899b-410d-c6f6-84a698843360"
   },
   "outputs": [
    {
     "name": "stdout",
     "output_type": "stream",
     "text": [
      "Enter a- 8\n",
      "Enter b- 2\n",
      "Enter c- 10\n",
      "c is largest\n"
     ]
    }
   ],
   "source": [
    "    a = int(input(\"Enter a- \"));  \n",
    "    b = int(input(\"Enter b- \"));  \n",
    "    c = int(input(\"Enter c- \"));  \n",
    "    if a>b and a>c:  \n",
    "        print(\"a is largest\");  \n",
    "    if b>a and b>c:  \n",
    "        print(\"b is largest\");  \n",
    "    if c>a and c>b:  \n",
    "        print(\"c is largest\");  "
   ]
  },
  {
   "cell_type": "code",
   "execution_count": 4,
   "metadata": {
    "id": "1c9aa697",
    "outputId": "dd08e45c-c056-47bc-cb98-db29b2aab2cf"
   },
   "outputs": [
    {
     "name": "stdout",
     "output_type": "stream",
     "text": [
      "Enter your age : 20\n",
      "You are eligible to vote!\n"
     ]
    }
   ],
   "source": [
    "    age = int (input(\"Enter your age : \"))  \n",
    "    if age>=18:  \n",
    "        print(\"You are eligible to vote!\");  \n",
    "    else:  \n",
    "        print(\"Sorry! you have to wait!\");  "
   ]
  },
  {
   "cell_type": "code",
   "execution_count": 5,
   "metadata": {
    "id": "0a328395",
    "outputId": "c0899793-402e-4968-b7f3-ca8dc81de8e2"
   },
   "outputs": [
    {
     "name": "stdout",
     "output_type": "stream",
     "text": [
      "Enter a number: 6\n",
      "Number is even\n"
     ]
    }
   ],
   "source": [
    "    num = int(input(\"Enter a number: \"))  \n",
    "    if num%2 == 0:  \n",
    "        print(\"Number is even\")  \n",
    "    else:  \n",
    "        print(\"Number is odd\")  "
   ]
  },
  {
   "cell_type": "code",
   "execution_count": 6,
   "metadata": {
    "id": "11628e55",
    "outputId": "5b7eb751-c63f-4cb4-dea0-9c38ab3fc04f"
   },
   "outputs": [
    {
     "name": "stdout",
     "output_type": "stream",
     "text": [
      "Enter a number: 80\n",
      "Number is not equal to 10, 50 or 100\n"
     ]
    }
   ],
   "source": [
    "    number = int(input(\"Enter a number: \"))  \n",
    "    if number==10:  \n",
    "        print(\"Number is equal to 10\")  \n",
    "    elif number==50:  \n",
    "        print(\"Number is equal to 50\");  \n",
    "    elif number==100:  \n",
    "        print(\"Number is equal to 100\");  \n",
    "    else:  \n",
    "        print(\"Number is not equal to 10, 50 or 100\");  "
   ]
  },
  {
   "cell_type": "code",
   "execution_count": 8,
   "metadata": {
    "id": "6b02cacc",
    "outputId": "5a96c0d9-5114-4ac0-df10-1524f10d51d1"
   },
   "outputs": [
    {
     "name": "stdout",
     "output_type": "stream",
     "text": [
      "Enter a number: 40\n",
      "Number is not equal to 10, 50 or 100\n"
     ]
    }
   ],
   "source": [
    "number = input(\"Enter a number: \")\n",
    "if number==10:  \n",
    "    print(\"Number is equal to 10\")  \n",
    "elif number==50:  \n",
    "    print(\"Number is equal to 50\");  \n",
    "elif number==100:  \n",
    "    print(\"Number is equal to 100\");  \n",
    "else:  \n",
    "    print(\"Number is not equal to 10, 50 or 100\");  "
   ]
  },
  {
   "cell_type": "code",
   "execution_count": 9,
   "metadata": {
    "id": "b6a59f62",
    "outputId": "1e3ecfd0-e772-4a44-a480-a0bf78136f32"
   },
   "outputs": [
    {
     "name": "stdout",
     "output_type": "stream",
     "text": [
      "Enter the marks: 96\n",
      "You scored grade A\n"
     ]
    }
   ],
   "source": [
    "    marks = int(input(\"Enter the marks: \"))  \n",
    "    if marks > 85 and marks <= 100:  \n",
    "       print(\"You scored grade A\")  \n",
    "    elif marks > 60 and marks <= 85:  \n",
    "       print(\"You scored grade B\")  \n",
    "    elif marks > 40 and marks <= 60:  \n",
    "       print(\"You scored grade C\")  \n",
    "    elif (marks > 30 and marks <= 40):  \n",
    "       print(\"You scored grade D\")  \n",
    "    else:  \n",
    "       print(\"Sorry! You failed\")  "
   ]
  },
  {
   "cell_type": "code",
   "execution_count": null,
   "metadata": {},
   "outputs": [],
   "source": []
  }
 ],
 "metadata": {
  "colab": {
   "name": "if-else.ipynb",
   "provenance": []
  },
  "kernelspec": {
   "display_name": "Python 3",
   "language": "python",
   "name": "python3"
  },
  "language_info": {
   "codemirror_mode": {
    "name": "ipython",
    "version": 3
   },
   "file_extension": ".py",
   "mimetype": "text/x-python",
   "name": "python",
   "nbconvert_exporter": "python",
   "pygments_lexer": "ipython3",
   "version": "3.7.3"
  }
 },
 "nbformat": 4,
 "nbformat_minor": 5
}
