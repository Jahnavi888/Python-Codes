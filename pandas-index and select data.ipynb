{
 "cells": [
  {
   "cell_type": "code",
   "execution_count": 4,
   "id": "f75f19ea",
   "metadata": {},
   "outputs": [
    {
     "name": "stdout",
     "output_type": "stream",
     "text": [
      "a    0.481400\n",
      "b    1.032372\n",
      "c   -0.392431\n",
      "d    0.384942\n",
      "e   -1.348496\n",
      "f    0.966938\n",
      "g   -0.206397\n",
      "h   -0.993287\n",
      "Name: A, dtype: float64\n"
     ]
    }
   ],
   "source": [
    "#import the pandas library and aliasing as pd\n",
    "import pandas as pd\n",
    "import numpy as np\n",
    "\n",
    "df = pd.DataFrame(np.random.randn(8, 4),\n",
    "\n",
    "index = ['a','b','c','d','e','f','g','h'], columns = ['A', 'B', 'C', 'D'])\n",
    "\n",
    "#select all rows for a specific column\n",
    "print (df.loc[:,'A'])"
   ]
  },
  {
   "cell_type": "code",
   "execution_count": 5,
   "id": "eb982a86",
   "metadata": {},
   "outputs": [
    {
     "name": "stdout",
     "output_type": "stream",
     "text": [
      "          A         C\n",
      "a -0.186798 -0.040828\n",
      "b -0.511093 -0.918260\n",
      "c -2.451806 -0.962563\n",
      "d  0.610320 -0.016680\n",
      "e -0.354539  0.550960\n",
      "f  1.847346  0.305030\n",
      "g  0.605384 -0.330821\n",
      "h  1.564142  0.600691\n"
     ]
    }
   ],
   "source": [
    "import pandas as pd\n",
    "import numpy as np\n",
    "\n",
    "df = pd.DataFrame(np.random.randn(8, 4),\n",
    "index = ['a','b','c','d','e','f','g','h'], columns = ['A', 'B', 'C', 'D'])\n",
    "\n",
    "# Select all rows for multiple columns, say list[]\n",
    "print (df.loc[:,['A','C']])"
   ]
  },
  {
   "cell_type": "code",
   "execution_count": 6,
   "id": "38a8eb15",
   "metadata": {},
   "outputs": [
    {
     "name": "stdout",
     "output_type": "stream",
     "text": [
      "          A         C\n",
      "a  0.173868  1.346163\n",
      "b  1.379898  0.019636\n",
      "f -0.302609  0.387373\n",
      "h  1.449372 -1.363041\n"
     ]
    }
   ],
   "source": [
    "import pandas as pd\n",
    "import numpy as np\n",
    "\n",
    "df = pd.DataFrame(np.random.randn(8, 4),\n",
    "index = ['a','b','c','d','e','f','g','h'], columns = ['A', 'B', 'C', 'D'])\n",
    "\n",
    "# Select few rows for multiple columns, say list[]\n",
    "print (df.loc[['a','b','f','h'],['A','C']])"
   ]
  },
  {
   "cell_type": "code",
   "execution_count": 8,
   "id": "e728eea9",
   "metadata": {},
   "outputs": [
    {
     "name": "stdout",
     "output_type": "stream",
     "text": [
      "          A         B         C         D\n",
      "a  1.159802 -0.028690 -0.776045  0.827534\n",
      "b -1.041473  0.204152 -0.643117  0.396520\n",
      "c -0.513027  2.195045  1.354764 -0.352770\n",
      "d  0.951589  1.871177 -0.026550 -0.026447\n"
     ]
    }
   ],
   "source": [
    "import pandas as pd\n",
    "import numpy as np\n",
    "\n",
    "df = pd.DataFrame(np.random.randn(8, 4),\n",
    "index = ['a','b','c','d','e','f','g','h'], columns = ['A', 'B', 'C', 'D'])\n",
    "\n",
    "# Select range of rows for all columns\n",
    "print (df.loc['a':'d'])"
   ]
  },
  {
   "cell_type": "code",
   "execution_count": 10,
   "id": "a0bc42dd",
   "metadata": {},
   "outputs": [
    {
     "name": "stdout",
     "output_type": "stream",
     "text": [
      "          A         B         C         D\n",
      "a -1.245752 -0.495460  0.706293  1.770178\n",
      "b  0.059009  0.329564  1.707307  0.083275\n",
      "c -1.344858 -2.090786 -1.289896  1.036774\n",
      "d -1.670576  1.765127 -0.259284  0.664807\n",
      "e -1.077589  1.166700  0.496885  0.883307\n",
      "f -1.172176  0.122853 -1.022873 -1.318883\n",
      "g -1.507572 -1.750927  0.616773  1.320749\n",
      "h  0.384835 -0.100205 -1.564131 -0.756418\n",
      "A    False\n",
      "B    False\n",
      "C     True\n",
      "D     True\n",
      "Name: a, dtype: bool\n"
     ]
    }
   ],
   "source": [
    "import pandas as pd\n",
    "import numpy as np\n",
    "\n",
    "df = pd.DataFrame(np.random.randn(8, 4),\n",
    "index = ['a','b','c','d','e','f','g','h'], columns = ['A', 'B', 'C', 'D'])\n",
    "print(df)\n",
    "# for getting values with a boolean array\n",
    "print (df.loc['a']>0)"
   ]
  },
  {
   "cell_type": "code",
   "execution_count": 12,
   "id": "50c0f36d",
   "metadata": {},
   "outputs": [
    {
     "name": "stdout",
     "output_type": "stream",
     "text": [
      "          A         B         C         D\n",
      "0  0.010387 -1.628557 -1.068687  1.767832\n",
      "1  1.238155 -0.584587 -0.118808  1.443212\n",
      "2  1.274389 -0.241849  0.535058  0.110078\n",
      "3 -1.012843  0.087842 -0.191482 -0.470660\n",
      "4 -0.835462  0.781117 -2.390753  0.149794\n",
      "5  1.182892  0.025253  1.068564 -0.162241\n",
      "6 -1.235978  0.018184  0.412544  0.952076\n",
      "7  0.508277  1.037854  0.144884  0.093476\n",
      "          A         B         C         D\n",
      "0  0.010387 -1.628557 -1.068687  1.767832\n",
      "1  1.238155 -0.584587 -0.118808  1.443212\n",
      "2  1.274389 -0.241849  0.535058  0.110078\n",
      "3 -1.012843  0.087842 -0.191482 -0.470660\n"
     ]
    }
   ],
   "source": [
    "# import the pandas library and aliasing as pd\n",
    "import pandas as pd\n",
    "import numpy as np\n",
    "\n",
    "df = pd.DataFrame(np.random.randn(8, 4), columns = ['A', 'B', 'C', 'D'])\n",
    "print(df)\n",
    "# select all rows for a specific column\n",
    "print (df.iloc[:4])"
   ]
  },
  {
   "cell_type": "code",
   "execution_count": 14,
   "id": "402e127a",
   "metadata": {},
   "outputs": [
    {
     "name": "stdout",
     "output_type": "stream",
     "text": [
      "          A         B         C         D\n",
      "0  0.509984  0.085056 -1.428002 -0.236256\n",
      "1 -0.125085 -1.179452  0.735120  1.105785\n",
      "2 -0.901835  0.326369  0.857510 -1.047973\n",
      "3  0.332560  0.544223 -0.352246 -0.494890\n",
      "4 -0.004407 -1.611374 -0.449416  0.148149\n",
      "5  0.693416  1.744587  0.296016 -0.557533\n",
      "6 -1.759597  1.431669  0.363708 -0.906031\n",
      "7 -1.313400 -0.959148  0.686979  0.445774\n",
      "          A         B         C         D\n",
      "0  0.509984  0.085056 -1.428002 -0.236256\n",
      "1 -0.125085 -1.179452  0.735120  1.105785\n",
      "2 -0.901835  0.326369  0.857510 -1.047973\n",
      "3  0.332560  0.544223 -0.352246 -0.494890\n",
      "          C         D\n",
      "1  0.735120  1.105785\n",
      "2  0.857510 -1.047973\n",
      "3 -0.352246 -0.494890\n",
      "4 -0.449416  0.148149\n"
     ]
    }
   ],
   "source": [
    "import pandas as pd\n",
    "import numpy as np\n",
    "\n",
    "df = pd.DataFrame(np.random.randn(8, 4), columns = ['A', 'B', 'C', 'D'])\n",
    "print(df)\n",
    "# Integer slicing\n",
    "print (df.iloc[:4])\n",
    "print (df.iloc[1:5, 2:4])"
   ]
  },
  {
   "cell_type": "code",
   "execution_count": 15,
   "id": "945426ae",
   "metadata": {},
   "outputs": [
    {
     "name": "stdout",
     "output_type": "stream",
     "text": [
      "          A         B         C         D\n",
      "0 -0.225587  0.483368  0.349420  0.072398\n",
      "1  0.553628  0.171803 -1.037541 -0.113895\n",
      "2  0.211350  0.901913  0.093944  0.043754\n",
      "3 -0.080660  2.611794 -0.266099  1.006386\n",
      "4 -0.215942  1.175347  1.909712  0.432791\n",
      "5  0.910924 -0.367758 -0.996220  0.756815\n",
      "6  0.370612 -1.271289  1.469797 -0.056764\n",
      "7 -0.331080  1.053787 -1.635907  0.683711\n",
      "          B         D\n",
      "1  0.171803 -0.113895\n",
      "3  2.611794  1.006386\n",
      "5 -0.367758  0.756815\n",
      "          A         B         C         D\n",
      "1  0.553628  0.171803 -1.037541 -0.113895\n",
      "2  0.211350  0.901913  0.093944  0.043754\n",
      "          B         C\n",
      "0  0.483368  0.349420\n",
      "1  0.171803 -1.037541\n",
      "2  0.901913  0.093944\n",
      "3  2.611794 -0.266099\n",
      "4  1.175347  1.909712\n",
      "5 -0.367758 -0.996220\n",
      "6 -1.271289  1.469797\n",
      "7  1.053787 -1.635907\n"
     ]
    }
   ],
   "source": [
    "import pandas as pd\n",
    "import numpy as np\n",
    "\n",
    "df = pd.DataFrame(np.random.randn(8, 4), columns = ['A', 'B', 'C', 'D'])\n",
    "print(df)\n",
    "# Slicing through list of values\n",
    "print (df.iloc[[1, 3, 5], [1, 3]])\n",
    "print (df.iloc[1:3, :])\n",
    "print (df.iloc[:,1:3])"
   ]
  },
  {
   "cell_type": "code",
   "execution_count": null,
   "id": "f1d62077",
   "metadata": {},
   "outputs": [],
   "source": []
  },
  {
   "cell_type": "code",
   "execution_count": null,
   "id": "b72b34ce",
   "metadata": {},
   "outputs": [],
   "source": []
  }
 ],
 "metadata": {
  "kernelspec": {
   "display_name": "Python 3",
   "language": "python",
   "name": "python3"
  },
  "language_info": {
   "codemirror_mode": {
    "name": "ipython",
    "version": 3
   },
   "file_extension": ".py",
   "mimetype": "text/x-python",
   "name": "python",
   "nbconvert_exporter": "python",
   "pygments_lexer": "ipython3",
   "version": "3.8.8"
  }
 },
 "nbformat": 4,
 "nbformat_minor": 5
}
