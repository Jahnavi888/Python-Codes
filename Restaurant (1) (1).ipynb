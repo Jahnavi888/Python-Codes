{
 "cells": [
  {
   "cell_type": "code",
   "execution_count": 1,
   "metadata": {},
   "outputs": [
    {
     "name": "stdout",
     "output_type": "stream",
     "text": [
      "Enter your username : Jahnavi T\n",
      "Enter your password : 12345\n",
      "Username:  Jahnavi T\n",
      "Password 12345\n",
      "\n",
      "Press 1 for Veg and 2 for Non-Veg2\n",
      "Welcome to the Non-Veg Restaurant\n"
     ]
    }
   ],
   "source": [
    "def login( name, pswd ):\n",
    "    print (\"Username: \", name)\n",
    "    print (\"Password\", pswd)\n",
    "    print()\n",
    "    return;\n",
    "def veg():\n",
    "    print(\"Welcome to the Veg Restaurant\")\n",
    "    return;\n",
    "def nonveg():\n",
    "    print(\"Welcome to the Non-Veg Restaurant\")\n",
    "    return;\n",
    "user=input(\"Enter your username : \")\n",
    "password=input(\"Enter your password : \")\n",
    "login( user, password )\n",
    "choice=int(input(\"Press 1 for Veg and 2 for Non-Veg\"))\n",
    "if choice==1:  \n",
    "    veg()  \n",
    "elif choice==2:  \n",
    "    nonveg()\n",
    "else:\n",
    "    print(\"Enter either 1 or 2\")\n",
    "\n"
   ]
  },
  {
   "cell_type": "code",
   "execution_count": null,
   "metadata": {},
   "outputs": [],
   "source": []
  }
 ],
 "metadata": {
  "kernelspec": {
   "display_name": "Python 3",
   "language": "python",
   "name": "python3"
  },
  "language_info": {
   "codemirror_mode": {
    "name": "ipython",
    "version": 3
   },
   "file_extension": ".py",
   "mimetype": "text/x-python",
   "name": "python",
   "nbconvert_exporter": "python",
   "pygments_lexer": "ipython3",
   "version": "3.7.3"
  }
 },
 "nbformat": 4,
 "nbformat_minor": 5
}
