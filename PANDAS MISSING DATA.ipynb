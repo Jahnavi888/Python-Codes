{
 "cells": [
  {
   "cell_type": "code",
   "execution_count": 3,
   "metadata": {},
   "outputs": [
    {
     "name": "stdout",
     "output_type": "stream",
     "text": [
      "       Name  English  Maths  Science  Total\n",
      "0     Honey     95.0    NaN     94.0    189\n",
      "1     Dolly      NaN   99.0     96.0    195\n",
      "2       TSR     60.0    NaN     70.0    130\n",
      "3  Chinnari     65.0   55.0      NaN    120\n",
      "4    Aadhya     88.0   94.0     99.0    281\n",
      "5   Gulshan     92.0   95.0     95.0    282\n",
      "6    Sowmya     80.0   60.0     90.0    230\n",
      "7   Deepthi     80.0   70.0     85.0    235\n",
      "8     Arjun     90.0   90.0     90.0    270\n",
      "9    Shanvi     98.0   97.0     96.0    291\n"
     ]
    }
   ],
   "source": [
    "import pandas as pd\n",
    "d=pd.read_excel(r'C:\\Users\\user\\Desktop\\missing.xlsx')\n",
    "df=pd.DataFrame(d)\n",
    "print(df)"
   ]
  },
  {
   "cell_type": "code",
   "execution_count": 4,
   "metadata": {},
   "outputs": [
    {
     "data": {
      "text/html": [
       "<div>\n",
       "<style scoped>\n",
       "    .dataframe tbody tr th:only-of-type {\n",
       "        vertical-align: middle;\n",
       "    }\n",
       "\n",
       "    .dataframe tbody tr th {\n",
       "        vertical-align: top;\n",
       "    }\n",
       "\n",
       "    .dataframe thead th {\n",
       "        text-align: right;\n",
       "    }\n",
       "</style>\n",
       "<table border=\"1\" class=\"dataframe\">\n",
       "  <thead>\n",
       "    <tr style=\"text-align: right;\">\n",
       "      <th></th>\n",
       "      <th>Name</th>\n",
       "      <th>English</th>\n",
       "      <th>Maths</th>\n",
       "      <th>Science</th>\n",
       "      <th>Total</th>\n",
       "    </tr>\n",
       "  </thead>\n",
       "  <tbody>\n",
       "    <tr>\n",
       "      <th>4</th>\n",
       "      <td>Aadhya</td>\n",
       "      <td>88.0</td>\n",
       "      <td>94.0</td>\n",
       "      <td>99.0</td>\n",
       "      <td>281</td>\n",
       "    </tr>\n",
       "    <tr>\n",
       "      <th>5</th>\n",
       "      <td>Gulshan</td>\n",
       "      <td>92.0</td>\n",
       "      <td>95.0</td>\n",
       "      <td>95.0</td>\n",
       "      <td>282</td>\n",
       "    </tr>\n",
       "    <tr>\n",
       "      <th>6</th>\n",
       "      <td>Sowmya</td>\n",
       "      <td>80.0</td>\n",
       "      <td>60.0</td>\n",
       "      <td>90.0</td>\n",
       "      <td>230</td>\n",
       "    </tr>\n",
       "    <tr>\n",
       "      <th>7</th>\n",
       "      <td>Deepthi</td>\n",
       "      <td>80.0</td>\n",
       "      <td>70.0</td>\n",
       "      <td>85.0</td>\n",
       "      <td>235</td>\n",
       "    </tr>\n",
       "    <tr>\n",
       "      <th>8</th>\n",
       "      <td>Arjun</td>\n",
       "      <td>90.0</td>\n",
       "      <td>90.0</td>\n",
       "      <td>90.0</td>\n",
       "      <td>270</td>\n",
       "    </tr>\n",
       "    <tr>\n",
       "      <th>9</th>\n",
       "      <td>Shanvi</td>\n",
       "      <td>98.0</td>\n",
       "      <td>97.0</td>\n",
       "      <td>96.0</td>\n",
       "      <td>291</td>\n",
       "    </tr>\n",
       "  </tbody>\n",
       "</table>\n",
       "</div>"
      ],
      "text/plain": [
       "      Name  English  Maths  Science  Total\n",
       "4   Aadhya     88.0   94.0     99.0    281\n",
       "5  Gulshan     92.0   95.0     95.0    282\n",
       "6   Sowmya     80.0   60.0     90.0    230\n",
       "7  Deepthi     80.0   70.0     85.0    235\n",
       "8    Arjun     90.0   90.0     90.0    270\n",
       "9   Shanvi     98.0   97.0     96.0    291"
      ]
     },
     "execution_count": 4,
     "metadata": {},
     "output_type": "execute_result"
    }
   ],
   "source": [
    "df.dropna()"
   ]
  },
  {
   "cell_type": "code",
   "execution_count": 5,
   "metadata": {},
   "outputs": [
    {
     "name": "stdout",
     "output_type": "stream",
     "text": [
      "       Name  English  Maths  Science  Total\n",
      "0     Honey     95.0    NaN     94.0    189\n",
      "1     Dolly      NaN   99.0     96.0    195\n",
      "2       TSR     60.0    NaN     70.0    130\n",
      "3  Chinnari     65.0   55.0      NaN    120\n",
      "4    Aadhya     88.0   94.0     99.0    281\n",
      "5   Gulshan     92.0   95.0     95.0    282\n",
      "6    Sowmya     80.0   60.0     90.0    230\n",
      "7   Deepthi     80.0   70.0     85.0    235\n",
      "8     Arjun     90.0   90.0     90.0    270\n",
      "9    Shanvi     98.0   97.0     96.0    291\n"
     ]
    }
   ],
   "source": [
    "import pandas as pd\n",
    "d=pd.read_excel(r'C:\\Users\\user\\Desktop\\missing.xlsx')\n",
    "df=pd.DataFrame(d)\n",
    "print(df)\n",
    "\n"
   ]
  },
  {
   "cell_type": "code",
   "execution_count": 6,
   "metadata": {},
   "outputs": [
    {
     "data": {
      "text/plain": [
       "0       Honey\n",
       "1       Dolly\n",
       "2         TSR\n",
       "3    Chinnari\n",
       "4      Aadhya\n",
       "5     Gulshan\n",
       "6      Sowmya\n",
       "7     Deepthi\n",
       "8       Arjun\n",
       "9      Shanvi\n",
       "Name: Name, dtype: object"
      ]
     },
     "execution_count": 6,
     "metadata": {},
     "output_type": "execute_result"
    }
   ],
   "source": [
    "df['Name'].dropna()"
   ]
  },
  {
   "cell_type": "code",
   "execution_count": 7,
   "metadata": {},
   "outputs": [
    {
     "name": "stdout",
     "output_type": "stream",
     "text": [
      "       Name  English  Maths  Science  Total\n",
      "0     Honey     95.0    NaN     94.0    189\n",
      "1     Dolly      NaN   99.0     96.0    195\n",
      "2       TSR     60.0    NaN     70.0    130\n",
      "3  Chinnari     65.0   55.0      NaN    120\n",
      "4    Aadhya     88.0   94.0     99.0    281\n",
      "5   Gulshan     92.0   95.0     95.0    282\n",
      "6    Sowmya     80.0   60.0     90.0    230\n",
      "7   Deepthi     80.0   70.0     85.0    235\n",
      "8     Arjun     90.0   90.0     90.0    270\n",
      "9    Shanvi     98.0   97.0     96.0    291\n"
     ]
    }
   ],
   "source": [
    "import pandas as pd\n",
    "d=pd.read_excel(r'C:\\Users\\user\\Desktop\\missing.xlsx')\n",
    "df=pd.DataFrame(d)\n",
    "print(df)"
   ]
  },
  {
   "cell_type": "code",
   "execution_count": 8,
   "metadata": {},
   "outputs": [
    {
     "data": {
      "text/html": [
       "<div>\n",
       "<style scoped>\n",
       "    .dataframe tbody tr th:only-of-type {\n",
       "        vertical-align: middle;\n",
       "    }\n",
       "\n",
       "    .dataframe tbody tr th {\n",
       "        vertical-align: top;\n",
       "    }\n",
       "\n",
       "    .dataframe thead th {\n",
       "        text-align: right;\n",
       "    }\n",
       "</style>\n",
       "<table border=\"1\" class=\"dataframe\">\n",
       "  <thead>\n",
       "    <tr style=\"text-align: right;\">\n",
       "      <th></th>\n",
       "      <th>Name</th>\n",
       "      <th>English</th>\n",
       "    </tr>\n",
       "  </thead>\n",
       "  <tbody>\n",
       "    <tr>\n",
       "      <th>0</th>\n",
       "      <td>Honey</td>\n",
       "      <td>95.0</td>\n",
       "    </tr>\n",
       "    <tr>\n",
       "      <th>2</th>\n",
       "      <td>TSR</td>\n",
       "      <td>60.0</td>\n",
       "    </tr>\n",
       "    <tr>\n",
       "      <th>3</th>\n",
       "      <td>Chinnari</td>\n",
       "      <td>65.0</td>\n",
       "    </tr>\n",
       "    <tr>\n",
       "      <th>4</th>\n",
       "      <td>Aadhya</td>\n",
       "      <td>88.0</td>\n",
       "    </tr>\n",
       "    <tr>\n",
       "      <th>5</th>\n",
       "      <td>Gulshan</td>\n",
       "      <td>92.0</td>\n",
       "    </tr>\n",
       "    <tr>\n",
       "      <th>6</th>\n",
       "      <td>Sowmya</td>\n",
       "      <td>80.0</td>\n",
       "    </tr>\n",
       "    <tr>\n",
       "      <th>7</th>\n",
       "      <td>Deepthi</td>\n",
       "      <td>80.0</td>\n",
       "    </tr>\n",
       "    <tr>\n",
       "      <th>8</th>\n",
       "      <td>Arjun</td>\n",
       "      <td>90.0</td>\n",
       "    </tr>\n",
       "    <tr>\n",
       "      <th>9</th>\n",
       "      <td>Shanvi</td>\n",
       "      <td>98.0</td>\n",
       "    </tr>\n",
       "  </tbody>\n",
       "</table>\n",
       "</div>"
      ],
      "text/plain": [
       "       Name  English\n",
       "0     Honey     95.0\n",
       "2       TSR     60.0\n",
       "3  Chinnari     65.0\n",
       "4    Aadhya     88.0\n",
       "5   Gulshan     92.0\n",
       "6    Sowmya     80.0\n",
       "7   Deepthi     80.0\n",
       "8     Arjun     90.0\n",
       "9    Shanvi     98.0"
      ]
     },
     "execution_count": 8,
     "metadata": {},
     "output_type": "execute_result"
    }
   ],
   "source": [
    "df.loc[:,['Name','English']].dropna()"
   ]
  },
  {
   "cell_type": "code",
   "execution_count": 9,
   "metadata": {},
   "outputs": [
    {
     "name": "stdout",
     "output_type": "stream",
     "text": [
      "       Name  English  Maths  Science  Total\n",
      "0     Honey     95.0    NaN     94.0    189\n",
      "1     Dolly      NaN   99.0     96.0    195\n",
      "2       TSR     60.0    NaN     70.0    130\n",
      "3  Chinnari     65.0   55.0      NaN    120\n",
      "4    Aadhya     88.0   94.0     99.0    281\n",
      "5   Gulshan     92.0   95.0     95.0    282\n",
      "6    Sowmya     80.0   60.0     90.0    230\n",
      "7   Deepthi     80.0   70.0     85.0    235\n",
      "8     Arjun     90.0   90.0     90.0    270\n",
      "9    Shanvi     98.0   97.0     96.0    291\n"
     ]
    }
   ],
   "source": [
    "import pandas as pd\n",
    "d=pd.read_excel(r'C:\\Users\\user\\Desktop\\missing.xlsx')\n",
    "df=pd.DataFrame(d)\n",
    "print(df)"
   ]
  },
  {
   "cell_type": "code",
   "execution_count": 10,
   "metadata": {},
   "outputs": [
    {
     "data": {
      "text/html": [
       "<div>\n",
       "<style scoped>\n",
       "    .dataframe tbody tr th:only-of-type {\n",
       "        vertical-align: middle;\n",
       "    }\n",
       "\n",
       "    .dataframe tbody tr th {\n",
       "        vertical-align: top;\n",
       "    }\n",
       "\n",
       "    .dataframe thead th {\n",
       "        text-align: right;\n",
       "    }\n",
       "</style>\n",
       "<table border=\"1\" class=\"dataframe\">\n",
       "  <thead>\n",
       "    <tr style=\"text-align: right;\">\n",
       "      <th></th>\n",
       "      <th>Name</th>\n",
       "      <th>English</th>\n",
       "      <th>Maths</th>\n",
       "      <th>Science</th>\n",
       "      <th>Total</th>\n",
       "    </tr>\n",
       "  </thead>\n",
       "  <tbody>\n",
       "    <tr>\n",
       "      <th>0</th>\n",
       "      <td>Honey</td>\n",
       "      <td>95</td>\n",
       "      <td>*</td>\n",
       "      <td>94</td>\n",
       "      <td>189</td>\n",
       "    </tr>\n",
       "    <tr>\n",
       "      <th>1</th>\n",
       "      <td>Dolly</td>\n",
       "      <td>*</td>\n",
       "      <td>99</td>\n",
       "      <td>96</td>\n",
       "      <td>195</td>\n",
       "    </tr>\n",
       "    <tr>\n",
       "      <th>2</th>\n",
       "      <td>TSR</td>\n",
       "      <td>60</td>\n",
       "      <td>*</td>\n",
       "      <td>70</td>\n",
       "      <td>130</td>\n",
       "    </tr>\n",
       "    <tr>\n",
       "      <th>3</th>\n",
       "      <td>Chinnari</td>\n",
       "      <td>65</td>\n",
       "      <td>55</td>\n",
       "      <td>*</td>\n",
       "      <td>120</td>\n",
       "    </tr>\n",
       "    <tr>\n",
       "      <th>4</th>\n",
       "      <td>Aadhya</td>\n",
       "      <td>88</td>\n",
       "      <td>94</td>\n",
       "      <td>99</td>\n",
       "      <td>281</td>\n",
       "    </tr>\n",
       "    <tr>\n",
       "      <th>5</th>\n",
       "      <td>Gulshan</td>\n",
       "      <td>92</td>\n",
       "      <td>95</td>\n",
       "      <td>95</td>\n",
       "      <td>282</td>\n",
       "    </tr>\n",
       "    <tr>\n",
       "      <th>6</th>\n",
       "      <td>Sowmya</td>\n",
       "      <td>80</td>\n",
       "      <td>60</td>\n",
       "      <td>90</td>\n",
       "      <td>230</td>\n",
       "    </tr>\n",
       "    <tr>\n",
       "      <th>7</th>\n",
       "      <td>Deepthi</td>\n",
       "      <td>80</td>\n",
       "      <td>70</td>\n",
       "      <td>85</td>\n",
       "      <td>235</td>\n",
       "    </tr>\n",
       "    <tr>\n",
       "      <th>8</th>\n",
       "      <td>Arjun</td>\n",
       "      <td>90</td>\n",
       "      <td>90</td>\n",
       "      <td>90</td>\n",
       "      <td>270</td>\n",
       "    </tr>\n",
       "    <tr>\n",
       "      <th>9</th>\n",
       "      <td>Shanvi</td>\n",
       "      <td>98</td>\n",
       "      <td>97</td>\n",
       "      <td>96</td>\n",
       "      <td>291</td>\n",
       "    </tr>\n",
       "  </tbody>\n",
       "</table>\n",
       "</div>"
      ],
      "text/plain": [
       "       Name English Maths Science  Total\n",
       "0     Honey      95     *      94    189\n",
       "1     Dolly       *    99      96    195\n",
       "2       TSR      60     *      70    130\n",
       "3  Chinnari      65    55       *    120\n",
       "4    Aadhya      88    94      99    281\n",
       "5   Gulshan      92    95      95    282\n",
       "6    Sowmya      80    60      90    230\n",
       "7   Deepthi      80    70      85    235\n",
       "8     Arjun      90    90      90    270\n",
       "9    Shanvi      98    97      96    291"
      ]
     },
     "execution_count": 10,
     "metadata": {},
     "output_type": "execute_result"
    }
   ],
   "source": [
    "df.fillna(\"*\")\n"
   ]
  },
  {
   "cell_type": "code",
   "execution_count": 11,
   "metadata": {},
   "outputs": [
    {
     "data": {
      "text/plain": [
       "0    95.0\n",
       "1    33.0\n",
       "2    60.0\n",
       "3    65.0\n",
       "4    88.0\n",
       "5    92.0\n",
       "6    80.0\n",
       "7    80.0\n",
       "8    90.0\n",
       "9    98.0\n",
       "Name: English, dtype: float64"
      ]
     },
     "execution_count": 11,
     "metadata": {},
     "output_type": "execute_result"
    }
   ],
   "source": [
    "df['English'].fillna(33)\n"
   ]
  },
  {
   "cell_type": "code",
   "execution_count": null,
   "metadata": {},
   "outputs": [],
   "source": []
  },
  {
   "cell_type": "code",
   "execution_count": null,
   "metadata": {},
   "outputs": [],
   "source": []
  }
 ],
 "metadata": {
  "kernelspec": {
   "display_name": "Python 3",
   "language": "python",
   "name": "python3"
  },
  "language_info": {
   "codemirror_mode": {
    "name": "ipython",
    "version": 3
   },
   "file_extension": ".py",
   "mimetype": "text/x-python",
   "name": "python",
   "nbconvert_exporter": "python",
   "pygments_lexer": "ipython3",
   "version": "3.7.3"
  }
 },
 "nbformat": 4,
 "nbformat_minor": 5
}
