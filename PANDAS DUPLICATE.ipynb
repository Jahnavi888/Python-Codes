{
 "cells": [
  {
   "cell_type": "code",
   "execution_count": 3,
   "metadata": {},
   "outputs": [
    {
     "name": "stdout",
     "output_type": "stream",
     "text": [
      "       Name  English  Maths  Science  Total\n",
      "0     Honey       95     90       94    279\n",
      "1     Dolly       90     99       96    285\n",
      "2       TSR       60     80       70    210\n",
      "3  Chinnari       65     55       80    200\n",
      "4    Aadhya       88     94       99    281\n",
      "5   Gulshan       92     95       95    282\n",
      "6    Sowmya       80     60       90    230\n",
      "7   Deepthi       80     70       85    235\n",
      "8     Arjun       90     90       90    270\n",
      "9    Shanvi       98     97       96    291\n"
     ]
    }
   ],
   "source": [
    "import pandas as pd\n",
    "d=pd.read_excel(r'C:\\Users\\user\\Desktop\\duplicate.xlsx')\n",
    "df=pd.DataFrame(d)\n",
    "print(df)"
   ]
  },
  {
   "cell_type": "code",
   "execution_count": 4,
   "metadata": {},
   "outputs": [
    {
     "data": {
      "text/plain": [
       "0    False\n",
       "1    False\n",
       "2    False\n",
       "3    False\n",
       "4    False\n",
       "5    False\n",
       "6    False\n",
       "7    False\n",
       "8    False\n",
       "9    False\n",
       "dtype: bool"
      ]
     },
     "execution_count": 4,
     "metadata": {},
     "output_type": "execute_result"
    }
   ],
   "source": [
    "df.duplicated()"
   ]
  },
  {
   "cell_type": "code",
   "execution_count": 5,
   "metadata": {},
   "outputs": [
    {
     "data": {
      "text/html": [
       "<div>\n",
       "<style scoped>\n",
       "    .dataframe tbody tr th:only-of-type {\n",
       "        vertical-align: middle;\n",
       "    }\n",
       "\n",
       "    .dataframe tbody tr th {\n",
       "        vertical-align: top;\n",
       "    }\n",
       "\n",
       "    .dataframe thead th {\n",
       "        text-align: right;\n",
       "    }\n",
       "</style>\n",
       "<table border=\"1\" class=\"dataframe\">\n",
       "  <thead>\n",
       "    <tr style=\"text-align: right;\">\n",
       "      <th></th>\n",
       "      <th>Name</th>\n",
       "      <th>English</th>\n",
       "      <th>Maths</th>\n",
       "      <th>Science</th>\n",
       "      <th>Total</th>\n",
       "    </tr>\n",
       "  </thead>\n",
       "  <tbody>\n",
       "    <tr>\n",
       "      <th>0</th>\n",
       "      <td>Honey</td>\n",
       "      <td>95</td>\n",
       "      <td>90</td>\n",
       "      <td>94</td>\n",
       "      <td>279</td>\n",
       "    </tr>\n",
       "    <tr>\n",
       "      <th>1</th>\n",
       "      <td>Dolly</td>\n",
       "      <td>90</td>\n",
       "      <td>99</td>\n",
       "      <td>96</td>\n",
       "      <td>285</td>\n",
       "    </tr>\n",
       "    <tr>\n",
       "      <th>2</th>\n",
       "      <td>TSR</td>\n",
       "      <td>60</td>\n",
       "      <td>80</td>\n",
       "      <td>70</td>\n",
       "      <td>210</td>\n",
       "    </tr>\n",
       "    <tr>\n",
       "      <th>3</th>\n",
       "      <td>Chinnari</td>\n",
       "      <td>65</td>\n",
       "      <td>55</td>\n",
       "      <td>80</td>\n",
       "      <td>200</td>\n",
       "    </tr>\n",
       "    <tr>\n",
       "      <th>4</th>\n",
       "      <td>Aadhya</td>\n",
       "      <td>88</td>\n",
       "      <td>94</td>\n",
       "      <td>99</td>\n",
       "      <td>281</td>\n",
       "    </tr>\n",
       "    <tr>\n",
       "      <th>5</th>\n",
       "      <td>Gulshan</td>\n",
       "      <td>92</td>\n",
       "      <td>95</td>\n",
       "      <td>95</td>\n",
       "      <td>282</td>\n",
       "    </tr>\n",
       "    <tr>\n",
       "      <th>6</th>\n",
       "      <td>Sowmya</td>\n",
       "      <td>80</td>\n",
       "      <td>60</td>\n",
       "      <td>90</td>\n",
       "      <td>230</td>\n",
       "    </tr>\n",
       "    <tr>\n",
       "      <th>7</th>\n",
       "      <td>Deepthi</td>\n",
       "      <td>80</td>\n",
       "      <td>70</td>\n",
       "      <td>85</td>\n",
       "      <td>235</td>\n",
       "    </tr>\n",
       "    <tr>\n",
       "      <th>8</th>\n",
       "      <td>Arjun</td>\n",
       "      <td>90</td>\n",
       "      <td>90</td>\n",
       "      <td>90</td>\n",
       "      <td>270</td>\n",
       "    </tr>\n",
       "    <tr>\n",
       "      <th>9</th>\n",
       "      <td>Shanvi</td>\n",
       "      <td>98</td>\n",
       "      <td>97</td>\n",
       "      <td>96</td>\n",
       "      <td>291</td>\n",
       "    </tr>\n",
       "  </tbody>\n",
       "</table>\n",
       "</div>"
      ],
      "text/plain": [
       "       Name  English  Maths  Science  Total\n",
       "0     Honey       95     90       94    279\n",
       "1     Dolly       90     99       96    285\n",
       "2       TSR       60     80       70    210\n",
       "3  Chinnari       65     55       80    200\n",
       "4    Aadhya       88     94       99    281\n",
       "5   Gulshan       92     95       95    282\n",
       "6    Sowmya       80     60       90    230\n",
       "7   Deepthi       80     70       85    235\n",
       "8     Arjun       90     90       90    270\n",
       "9    Shanvi       98     97       96    291"
      ]
     },
     "execution_count": 5,
     "metadata": {},
     "output_type": "execute_result"
    }
   ],
   "source": [
    "df.drop_duplicates()"
   ]
  },
  {
   "cell_type": "code",
   "execution_count": 7,
   "metadata": {},
   "outputs": [
    {
     "name": "stdout",
     "output_type": "stream",
     "text": [
      "       Name  English  Maths  Science  Total\n",
      "0     Honey       95     90       94    279\n",
      "1     Dolly       90     99       96    285\n",
      "2       TSR       60     80       70    210\n",
      "3  Chinnari       65     55       80    200\n",
      "4    Aadhya       88     94       99    281\n",
      "5   Gulshan       92     95       95    282\n",
      "6    Sowmya       80     60       90    230\n",
      "7   Deepthi       80     70       85    235\n",
      "8     Arjun       90     90       90    270\n",
      "9    Shanvi       98     97       96    291\n",
      "\n",
      "\n",
      "       Name  English  Maths  Science  Total\n",
      "0     Honey       95     90       94    279\n",
      "1     Dolly       90     99       96    285\n",
      "2       TSR       60     80       70    210\n",
      "3  Chinnari       65     55       80    200\n",
      "4    Aadhya       88     94       99    281\n",
      "5   Gulshan       92     95       95    282\n",
      "6    Sowmya       80     60       90    230\n",
      "7   Deepthi       80     70       85    235\n",
      "8     Arjun       90     90       90    270\n",
      "9    Shanvi       98     97       96    291\n"
     ]
    }
   ],
   "source": [
    "import pandas as pd\n",
    "d=pd.read_excel(r'C:\\Users\\user\\Desktop\\duplicate.xlsx')\n",
    "df=pd.DataFrame(d)\n",
    "print(df)\n",
    "print(\"\\n\")\n",
    "df.drop_duplicates(inplace=True)\n",
    "print(df)"
   ]
  },
  {
   "cell_type": "code",
   "execution_count": null,
   "metadata": {},
   "outputs": [],
   "source": []
  }
 ],
 "metadata": {
  "kernelspec": {
   "display_name": "Python 3",
   "language": "python",
   "name": "python3"
  },
  "language_info": {
   "codemirror_mode": {
    "name": "ipython",
    "version": 3
   },
   "file_extension": ".py",
   "mimetype": "text/x-python",
   "name": "python",
   "nbconvert_exporter": "python",
   "pygments_lexer": "ipython3",
   "version": "3.7.3"
  }
 },
 "nbformat": 4,
 "nbformat_minor": 5
}
