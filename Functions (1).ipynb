{
 "cells": [
  {
   "cell_type": "code",
   "execution_count": 2,
   "metadata": {},
   "outputs": [
    {
     "name": "stdout",
     "output_type": "stream",
     "text": [
      "Hi\n",
      "Hello\n",
      "In function   Jahnavi\n",
      "After printing in function definition\n",
      "In function   T\n",
      "After printing in function definition\n",
      "Welcome\n"
     ]
    }
   ],
   "source": [
    "def hello (str):\n",
    "     print(\"In function   \" + str)\n",
    "     print(\"After printing in function definition\")\n",
    "     return;\n",
    "    \n",
    "    \n",
    "print(\"Hi\")\n",
    "print(\"Hello\")\n",
    "hello(\"Jahnavi\")\n",
    "hello(\"T\")\n",
    "print(\"Welcome\")\n",
    "    \n",
    "\n"
   ]
  },
  {
   "cell_type": "code",
   "execution_count": 3,
   "metadata": {},
   "outputs": [
    {
     "name": "stdout",
     "output_type": "stream",
     "text": [
      "Values inside the function:  [10, 20, 30, [8, 16, 24, 32]]\n",
      "Values outside the function:  [10, 20, 30, [8, 16, 24, 32]]\n"
     ]
    }
   ],
   "source": [
    "def changeme( mylist ):\n",
    "   mylist.append([8,16,24,32]);\n",
    "   print (\"Values inside the function: \", mylist)\n",
    "   return;\n",
    "mylist = [10,20,30];\n",
    "changeme( mylist );\n",
    "print (\"Values outside the function: \", mylist)\n"
   ]
  },
  {
   "cell_type": "code",
   "execution_count": 4,
   "metadata": {},
   "outputs": [
    {
     "name": "stdout",
     "output_type": "stream",
     "text": [
      "Before changing values inside the function:  [4, 6, 8, 10]\n",
      "After changinf the values inside the function:  [1, 2, 3, 4]\n",
      "Values outside the function:  [4, 6, 8, 10]\n"
     ]
    }
   ],
   "source": [
    "def changeme( mylist ):\n",
    "    print (\"Before changing values inside the function: \", mylist)\n",
    "    mylist = [1,2,3,4]; \n",
    "    print (\"After changinf the values inside the function: \", mylist)\n",
    "    return\n",
    "mylist1 = [4,6,8,10];\n",
    "changeme( mylist1 );\n",
    "print (\"Values outside the function: \", mylist1)"
   ]
  },
  {
   "cell_type": "code",
   "execution_count": 5,
   "metadata": {},
   "outputs": [
    {
     "ename": "TypeError",
     "evalue": "printme() missing 1 required positional argument: 'str'",
     "output_type": "error",
     "traceback": [
      "\u001b[1;31m---------------------------------------------------------------------------\u001b[0m",
      "\u001b[1;31mTypeError\u001b[0m                                 Traceback (most recent call last)",
      "\u001b[1;32m<ipython-input-5-a8f97208b134>\u001b[0m in \u001b[0;36m<module>\u001b[1;34m\u001b[0m\n\u001b[0;32m      2\u001b[0m      \u001b[0mprint\u001b[0m \u001b[1;33m(\u001b[0m\u001b[0mstr\u001b[0m\u001b[1;33m)\u001b[0m\u001b[1;33m\u001b[0m\u001b[1;33m\u001b[0m\u001b[0m\n\u001b[0;32m      3\u001b[0m      \u001b[1;32mreturn\u001b[0m\u001b[1;33m;\u001b[0m\u001b[1;33m\u001b[0m\u001b[1;33m\u001b[0m\u001b[0m\n\u001b[1;32m----> 4\u001b[1;33m \u001b[0mprintme\u001b[0m\u001b[1;33m(\u001b[0m\u001b[1;33m)\u001b[0m\u001b[1;33m\u001b[0m\u001b[1;33m\u001b[0m\u001b[0m\n\u001b[0m",
      "\u001b[1;31mTypeError\u001b[0m: printme() missing 1 required positional argument: 'str'"
     ]
    }
   ],
   "source": [
    "def printme( str ):\n",
    "     print (str)\n",
    "     return;\n",
    "printme()"
   ]
  },
  {
   "cell_type": "code",
   "execution_count": 6,
   "metadata": {
    "scrolled": true
   },
   "outputs": [
    {
     "name": "stdout",
     "output_type": "stream",
     "text": [
      "Hello\n"
     ]
    }
   ],
   "source": [
    "def printme( str ):\n",
    "     print (str)\n",
    "     return;\n",
    "\n",
    "printme( str = \"Hello\")"
   ]
  },
  {
   "cell_type": "code",
   "execution_count": 7,
   "metadata": {},
   "outputs": [
    {
     "name": "stdout",
     "output_type": "stream",
     "text": [
      "Name:  Honey\n",
      "Age  20\n"
     ]
    }
   ],
   "source": [
    "def printinfo( name, age ):\n",
    "    print (\"Name: \", name)\n",
    "    print (\"Age \", age)\n",
    "    return;\n",
    "\n",
    "\n",
    "printinfo( age=20, name=\"Honey\" )"
   ]
  },
  {
   "cell_type": "code",
   "execution_count": 8,
   "metadata": {},
   "outputs": [
    {
     "name": "stdout",
     "output_type": "stream",
     "text": [
      "Name:  Honey\n",
      "Age  20\n"
     ]
    }
   ],
   "source": [
    "def printinfo( name, age ):\n",
    "    print (\"Name: \", name)\n",
    "    print (\"Age \", age)\n",
    "    return;\n",
    "\n",
    "printinfo( \"Honey\",20 )"
   ]
  },
  {
   "cell_type": "code",
   "execution_count": 9,
   "metadata": {},
   "outputs": [
    {
     "name": "stdout",
     "output_type": "stream",
     "text": [
      "Name:  20\n",
      "Age  Honey\n"
     ]
    }
   ],
   "source": [
    "def printinfo( name, age ):\n",
    "    print (\"Name: \", name)\n",
    "    print (\"Age \", age)\n",
    "    return;\n",
    "\n",
    "printinfo( 20, \"Honey\" )"
   ]
  },
  {
   "cell_type": "code",
   "execution_count": 10,
   "metadata": {},
   "outputs": [
    {
     "name": "stdout",
     "output_type": "stream",
     "text": [
      "Name:  Dolly\n",
      "Age  18\n",
      "Name:  Honey\n",
      "Age  20\n"
     ]
    }
   ],
   "source": [
    "def printinfo( name, age = 20 ):\n",
    "    print (\"Name: \", name)\n",
    "    print (\"Age \", age)\n",
    "    return;\n",
    "\n",
    "\n",
    "printinfo( age=18, name=\"Dolly\" )\n",
    "printinfo( name=\"Honey\" )"
   ]
  },
  {
   "cell_type": "code",
   "execution_count": 11,
   "metadata": {},
   "outputs": [
    {
     "name": "stdout",
     "output_type": "stream",
     "text": [
      "Output is: \n",
      "arg1== 8\n",
      "16\n",
      "Output is: \n",
      "arg1== 4\n",
      "8\n",
      "12\n",
      "24\n"
     ]
    }
   ],
   "source": [
    "def printinfo( arg1, *vartuple ):\n",
    "     print (\"Output is: \")\n",
    "     print (\"arg1==\",arg1)\n",
    "     for var in vartuple:\n",
    "        print (var)\n",
    "     return;\n",
    "\n",
    "printinfo( 8,16 )\n",
    "printinfo( 4,8,12,24 )"
   ]
  },
  {
   "cell_type": "code",
   "execution_count": 12,
   "metadata": {},
   "outputs": [
    {
     "name": "stdout",
     "output_type": "stream",
     "text": [
      "Value of total :  12\n",
      "Value of total :  16\n"
     ]
    }
   ],
   "source": [
    "sum = lambda arg1, arg2: arg1 + arg2;\n",
    "print (\"Value of total : \", sum( 4, 8 ))\n",
    "print (\"Value of total : \", sum( 6, 10 ))"
   ]
  },
  {
   "cell_type": "code",
   "execution_count": 13,
   "metadata": {},
   "outputs": [
    {
     "name": "stdout",
     "output_type": "stream",
     "text": [
      "Inside the function :  12\n",
      "Outside the function :  12\n"
     ]
    }
   ],
   "source": [
    "def sum( arg1, arg2 ):\n",
    "    total = arg1 + arg2\n",
    "    print (\"Inside the function : \", total)\n",
    "    return total;\n",
    "total1 = sum( 4, 8 );\n",
    "print (\"Outside the function : \", total1 )"
   ]
  },
  {
   "cell_type": "code",
   "execution_count": 14,
   "metadata": {},
   "outputs": [
    {
     "name": "stdout",
     "output_type": "stream",
     "text": [
      "Inside the function local total s :  60\n",
      "Outside the function global total is :  80\n"
     ]
    }
   ],
   "source": [
    "total =80; \n",
    "def sum( arg1, arg2 ):\n",
    "    total = arg1 + arg2; \n",
    "    print (\"Inside the function local total s : \", total)\n",
    "    return total;\n",
    "sum( 20,40 );\n",
    "print (\"Outside the function global total is : \", total )"
   ]
  },
  {
   "cell_type": "code",
   "execution_count": null,
   "metadata": {},
   "outputs": [],
   "source": []
  }
 ],
 "metadata": {
  "kernelspec": {
   "display_name": "Python 3",
   "language": "python",
   "name": "python3"
  },
  "language_info": {
   "codemirror_mode": {
    "name": "ipython",
    "version": 3
   },
   "file_extension": ".py",
   "mimetype": "text/x-python",
   "name": "python",
   "nbconvert_exporter": "python",
   "pygments_lexer": "ipython3",
   "version": "3.7.3"
  }
 },
 "nbformat": 4,
 "nbformat_minor": 5
}
