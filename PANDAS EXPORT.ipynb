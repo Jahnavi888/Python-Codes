{
 "cells": [
  {
   "cell_type": "code",
   "execution_count": 10,
   "metadata": {},
   "outputs": [
    {
     "name": "stdout",
     "output_type": "stream",
     "text": [
      "       Name  English  Maths  Science  Total\n",
      "0     Honey       95     90       94    279\n",
      "1     Dolly       90     99       96    285\n",
      "2       TSR       60     80       70    210\n",
      "3  Chinnari       65     55       80    200\n",
      "4    Aadhya       88     94       99    281\n",
      "5   Gulshan       92     95       95    282\n",
      "6    Sowmya       80     60       90    230\n",
      "7   Deepthi       80     70       85    235\n",
      "8     Arjun       90     90       90    270\n",
      "9    Shanvi       98     97       96    291\n"
     ]
    }
   ],
   "source": [
    "import pandas as pd\n",
    "d=pd.read_excel(r'C:\\Users\\user\\Desktop\\Book1.xlsx')\n",
    "df=pd.DataFrame(d)\n",
    "print(df)"
   ]
  },
  {
   "cell_type": "code",
   "execution_count": 11,
   "metadata": {},
   "outputs": [
    {
     "name": "stdout",
     "output_type": "stream",
     "text": [
      "       Name  English  Maths  Science  Total  Percentage\n",
      "0     Honey       95     90       94    279   93.000000\n",
      "1     Dolly       90     99       96    285   95.000000\n",
      "2       TSR       60     80       70    210   70.000000\n",
      "3  Chinnari       65     55       80    200   66.666667\n",
      "4    Aadhya       88     94       99    281   93.666667\n",
      "5   Gulshan       92     95       95    282   94.000000\n",
      "6    Sowmya       80     60       90    230   76.666667\n",
      "7   Deepthi       80     70       85    235   78.333333\n",
      "8     Arjun       90     90       90    270   90.000000\n",
      "9    Shanvi       98     97       96    291   97.000000\n"
     ]
    }
   ],
   "source": [
    "df['Percentage']=df['Total']/300*100\n",
    "print(df)"
   ]
  },
  {
   "cell_type": "code",
   "execution_count": 12,
   "metadata": {},
   "outputs": [],
   "source": [
    "df.to_excel(r'C:\\Users\\user\\Desktop\\new.xlsx')"
   ]
  },
  {
   "cell_type": "code",
   "execution_count": 13,
   "metadata": {},
   "outputs": [],
   "source": [
    "df.to_excel(r'C:\\Users\\user\\Desktop\\new1.xlsx',index=False)"
   ]
  },
  {
   "cell_type": "code",
   "execution_count": 14,
   "metadata": {},
   "outputs": [],
   "source": [
    "df.to_csv(r'C:\\Users\\user\\Desktop\\CSV1.csv',index=False)"
   ]
  },
  {
   "cell_type": "code",
   "execution_count": 15,
   "metadata": {},
   "outputs": [],
   "source": [
    "df.to_csv(r'C:\\Users\\user\\Desktop\\TEXT.txt',index=False,sep=\"\\t\")"
   ]
  },
  {
   "cell_type": "code",
   "execution_count": null,
   "metadata": {},
   "outputs": [],
   "source": []
  }
 ],
 "metadata": {
  "kernelspec": {
   "display_name": "Python 3",
   "language": "python",
   "name": "python3"
  },
  "language_info": {
   "codemirror_mode": {
    "name": "ipython",
    "version": 3
   },
   "file_extension": ".py",
   "mimetype": "text/x-python",
   "name": "python",
   "nbconvert_exporter": "python",
   "pygments_lexer": "ipython3",
   "version": "3.7.3"
  }
 },
 "nbformat": 4,
 "nbformat_minor": 5
}
