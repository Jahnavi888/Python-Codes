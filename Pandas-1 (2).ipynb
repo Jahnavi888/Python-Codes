{
 "cells": [
  {
   "cell_type": "code",
   "execution_count": 4,
   "metadata": {},
   "outputs": [
    {
     "name": "stdout",
     "output_type": "stream",
     "text": [
      "0    0.631332\n",
      "1   -0.225666\n",
      "2    0.607464\n",
      "3    0.557271\n",
      "4   -1.126044\n",
      "5   -0.416036\n",
      "6   -0.569192\n",
      "7    0.964689\n",
      "dtype: float64\n"
     ]
    }
   ],
   "source": [
    "import pandas as pd\n",
    "import numpy as np\n",
    "s = pd.Series(np.random.randn(8))\n",
    "print (s)"
   ]
  },
  {
   "cell_type": "code",
   "execution_count": 6,
   "metadata": {},
   "outputs": [
    {
     "name": "stdout",
     "output_type": "stream",
     "text": [
      "The axes are :  [RangeIndex(start=0, stop=8, step=1)]\n"
     ]
    }
   ],
   "source": [
    "import pandas as pd\n",
    "import numpy as np\n",
    "s = pd.Series(np.random.randn(8))\n",
    "print (\"The axes are : \",s.axes)\n"
   ]
  },
  {
   "cell_type": "code",
   "execution_count": 8,
   "metadata": {},
   "outputs": [
    {
     "name": "stdout",
     "output_type": "stream",
     "text": [
      "Is the object empty? -  False\n"
     ]
    }
   ],
   "source": [
    "import pandas as pd\n",
    "import numpy as np\n",
    "s = pd.Series(np.random.randn(8))\n",
    "print (\"Is the object empty? - \", s.empty)\n"
   ]
  },
  {
   "cell_type": "code",
   "execution_count": 9,
   "metadata": {},
   "outputs": [
    {
     "name": "stdout",
     "output_type": "stream",
     "text": [
      "0    0.636616\n",
      "1   -0.761920\n",
      "2    1.345605\n",
      "3    1.601694\n",
      "4    1.930519\n",
      "5   -0.036900\n",
      "6   -0.581280\n",
      "7   -0.641044\n",
      "dtype: float64\n",
      "The dimensions of the object is :  1\n"
     ]
    }
   ],
   "source": [
    "import pandas as pd\n",
    "import numpy as np\n",
    "s = pd.Series(np.random.randn(8))\n",
    "print (s)\n",
    "print (\"The dimensions of the object is : \",s.ndim)\n"
   ]
  },
  {
   "cell_type": "code",
   "execution_count": 11,
   "metadata": {},
   "outputs": [
    {
     "name": "stdout",
     "output_type": "stream",
     "text": [
      "0    1.727972\n",
      "1    0.136272\n",
      "2    0.107328\n",
      "3    1.082867\n",
      "dtype: float64\n",
      "The size of the object is :  4\n"
     ]
    }
   ],
   "source": [
    "import pandas as pd\n",
    "import numpy as np\n",
    "s = pd.Series(np.random.randn(4))\n",
    "print (s)\n",
    "print (\"The size of the object is : \",s.size)\n"
   ]
  },
  {
   "cell_type": "code",
   "execution_count": 12,
   "metadata": {},
   "outputs": [
    {
     "name": "stdout",
     "output_type": "stream",
     "text": [
      "0   -1.646998\n",
      "1    1.294135\n",
      "2   -0.760954\n",
      "3   -1.463229\n",
      "dtype: float64\n",
      "The actual data series is :  [-1.64699841  1.2941346  -0.76095446 -1.46322915]\n"
     ]
    }
   ],
   "source": [
    "import pandas as pd\n",
    "import numpy as np\n",
    "s = pd.Series(np.random.randn(4))\n",
    "print (s)\n",
    "print (\"The actual data series is : \",s.values)\n"
   ]
  },
  {
   "cell_type": "code",
   "execution_count": 13,
   "metadata": {},
   "outputs": [
    {
     "name": "stdout",
     "output_type": "stream",
     "text": [
      "The original series is :  0   -1.033238\n",
      "1   -0.919413\n",
      "2    1.047551\n",
      "3   -1.289666\n",
      "4   -1.107976\n",
      "5    1.088349\n",
      "6    0.395820\n",
      "7    0.961755\n",
      "dtype: float64\n",
      "The first two rows of the data series is :  0   -1.033238\n",
      "1   -0.919413\n",
      "dtype: float64\n"
     ]
    }
   ],
   "source": [
    "import pandas as pd\n",
    "import numpy as np\n",
    "s = pd.Series(np.random.randn(8))\n",
    "print (\"The original series is : \",s)\n",
    "print (\"The first two rows of the data series is : \",s.head(2))\n"
   ]
  },
  {
   "cell_type": "code",
   "execution_count": 14,
   "metadata": {},
   "outputs": [
    {
     "name": "stdout",
     "output_type": "stream",
     "text": [
      "The original series is :  0   -0.633049\n",
      "1    0.956163\n",
      "2    0.181445\n",
      "3   -0.586519\n",
      "4    0.358337\n",
      "5   -0.192754\n",
      "6    0.215359\n",
      "7   -0.464047\n",
      "dtype: float64\n",
      "The last two rows of the data series is :  6    0.215359\n",
      "7   -0.464047\n",
      "dtype: float64\n"
     ]
    }
   ],
   "source": [
    "import pandas as pd\n",
    "import numpy as np\n",
    "s = pd.Series(np.random.randn(8))\n",
    "print (\"The original series is : \",s)\n",
    "print (\"The last two rows of the data series is : \",s.tail(2))\n"
   ]
  },
  {
   "cell_type": "code",
   "execution_count": 29,
   "metadata": {},
   "outputs": [
    {
     "name": "stdout",
     "output_type": "stream",
     "text": [
      "Our data series is:\n",
      "       Name  Age Gender\n",
      "0     Honey   20      F\n",
      "1     Dolly   18      F\n",
      "2       TSR   49      M\n",
      "3  Chinnari   40      F\n"
     ]
    }
   ],
   "source": [
    "import pandas as pd\n",
    "import numpy as np\n",
    "\n",
    "#Create a Dictionary of series\n",
    "d = {'Name':pd.Series(['Honey','Dolly','TSR','Chinnari']),\n",
    "   'Age':pd.Series([20,18,49,40]), \n",
    "   'Gender':pd.Series(['F','F','M','F'])}\n",
    "\n",
    "#Create a DataFrame\n",
    "df = pd.DataFrame(d)\n",
    "print (\"Our data series is:\")\n",
    "print (df)"
   ]
  },
  {
   "cell_type": "code",
   "execution_count": 28,
   "metadata": {},
   "outputs": [
    {
     "name": "stdout",
     "output_type": "stream",
     "text": [
      "The transpose of the data series is:\n",
      "            0      1    2         3\n",
      "Name    Honey  Dolly  TSR  Chinnari\n",
      "Age        20     18   49        40\n",
      "Gender      F      F    M         F\n"
     ]
    }
   ],
   "source": [
    "import pandas as pd\n",
    "import numpy as np\n",
    " \n",
    "# Create a Dictionary of series\n",
    "d = {'Name':pd.Series(['Honey','Dolly','TSR','Chinnari']),\n",
    "   'Age':pd.Series([20,18,49,40]), \n",
    "   'Gender':pd.Series(['F','F','M','F'])}\n",
    "# Create a DataFrame\n",
    "df = pd.DataFrame(d)\n",
    "print (\"The transpose of the data series is:\")\n",
    "print (df.T)"
   ]
  },
  {
   "cell_type": "code",
   "execution_count": 27,
   "metadata": {},
   "outputs": [
    {
     "name": "stdout",
     "output_type": "stream",
     "text": [
      "Row axis labels and column axis labels are:\n",
      "[RangeIndex(start=0, stop=4, step=1), Index(['Name', 'Age', 'Gender'], dtype='object')]\n"
     ]
    }
   ],
   "source": [
    "import pandas as pd\n",
    "import numpy as np\n",
    "\n",
    "#Create a Dictionary of series\n",
    "d = {'Name':pd.Series(['Honey','Dolly','TSR','Chinnari']),\n",
    "   'Age':pd.Series([20,18,49,40]), \n",
    "   'Gender':pd.Series(['F','F','M','F'])}\n",
    "\n",
    "#Create a DataFrame\n",
    "df = pd.DataFrame(d)\n",
    "print (\"Row axis labels and column axis labels are:\")\n",
    "print (df.axes)"
   ]
  },
  {
   "cell_type": "code",
   "execution_count": 26,
   "metadata": {},
   "outputs": [
    {
     "name": "stdout",
     "output_type": "stream",
     "text": [
      "The data types of each column are:\n",
      "Name      object\n",
      "Age        int64\n",
      "Gender    object\n",
      "dtype: object\n"
     ]
    }
   ],
   "source": [
    "import pandas as pd\n",
    "import numpy as np\n",
    "\n",
    "#Create a Dictionary of series\n",
    "d = {'Name':pd.Series(['Honey','Dolly','TSR','Chinnari']),\n",
    "   'Age':pd.Series([20,18,49,40]), \n",
    "   'Gender':pd.Series(['F','F','M','F'])}\n",
    "\n",
    "#Create a DataFrame\n",
    "df = pd.DataFrame(d)\n",
    "print (\"The data types of each column are:\")\n",
    "print (df.dtypes)"
   ]
  },
  {
   "cell_type": "code",
   "execution_count": 25,
   "metadata": {},
   "outputs": [
    {
     "name": "stdout",
     "output_type": "stream",
     "text": [
      "Is the object empty?\n",
      "False\n"
     ]
    }
   ],
   "source": [
    "import pandas as pd\n",
    "import numpy as np\n",
    " \n",
    "#Create a Dictionary of series\n",
    "d = {'Name':pd.Series(['Honey','Dolly','TSR','Chinnari']),\n",
    "   'Age':pd.Series([20,18,49,40]), \n",
    "   'Gender':pd.Series(['F','F','M','F'])}\n",
    "#Create a DataFrame\n",
    "df = pd.DataFrame(d)\n",
    "print (\"Is the object empty?\")\n",
    "print (df.empty)"
   ]
  },
  {
   "cell_type": "code",
   "execution_count": 23,
   "metadata": {},
   "outputs": [
    {
     "name": "stdout",
     "output_type": "stream",
     "text": [
      "Our object is:\n",
      "       Name  Age Gender\n",
      "0     Honey   20      F\n",
      "1     Dolly   18      F\n",
      "2       TSR   49      M\n",
      "3  Chinnari   40      F\n",
      "The dimension of the object is:\n",
      "2\n"
     ]
    }
   ],
   "source": [
    "#ndim-Returns the number of dimensions of the object. By definition, DataFrame is a 2D object.\n",
    "\n",
    "import pandas as pd\n",
    "import numpy as np\n",
    "\n",
    "#Create a Dictionary of series\n",
    "d = {'Name':pd.Series(['Honey','Dolly','TSR','Chinnari']),\n",
    "   'Age':pd.Series([20,18,49,40]), \n",
    "   'Gender':pd.Series(['F','F','M','F'])}\n",
    "\n",
    "#Create a DataFrame\n",
    "df = pd.DataFrame(d)\n",
    "print (\"Our object is:\")\n",
    "print (df)\n",
    "print (\"The dimension of the object is:\")\n",
    "print (df.ndim)"
   ]
  },
  {
   "cell_type": "code",
   "execution_count": 22,
   "metadata": {},
   "outputs": [
    {
     "name": "stdout",
     "output_type": "stream",
     "text": [
      "The object is:\n",
      "       Name  Age Gender\n",
      "0     Honey   20      F\n",
      "1     Dolly   18      F\n",
      "2       TSR   49      M\n",
      "3  Chinnari   40      F\n",
      "The shape of the object is : \n",
      "(4, 3)\n"
     ]
    }
   ],
   "source": [
    "import pandas as pd\n",
    "import numpy as np\n",
    " \n",
    "#Create a Dictionary of series\n",
    "d = {'Name':pd.Series(['Honey','Dolly','TSR','Chinnari']),\n",
    "   'Age':pd.Series([20,18,49,40]), \n",
    "   'Gender':pd.Series(['F','F','M','F'])}\n",
    " \n",
    "#Create a DataFrame\n",
    "df = pd.DataFrame(d)\n",
    "print (\"The object is:\")\n",
    "print (df)\n",
    "print (\"The shape of the object is : \")\n",
    "print (df.shape)"
   ]
  },
  {
   "cell_type": "code",
   "execution_count": 21,
   "metadata": {},
   "outputs": [
    {
     "name": "stdout",
     "output_type": "stream",
     "text": [
      "Our object is:\n",
      "       Name  Age Gender\n",
      "0     Honey   20      F\n",
      "1     Dolly   18      F\n",
      "2       TSR   49      M\n",
      "3  Chinnari   40      F\n",
      "The total number of elements in our object is :  12\n"
     ]
    }
   ],
   "source": [
    "import pandas as pd\n",
    "import numpy as np\n",
    " \n",
    "#Create a Dictionary of series\n",
    "d = {'Name':pd.Series(['Honey','Dolly','TSR','Chinnari']),\n",
    "   'Age':pd.Series([20,18,49,40]), \n",
    "   'Gender':pd.Series(['F','F','M','F'])}\n",
    "df = pd.DataFrame(d)\n",
    "print (\"Our object is:\")\n",
    "print (df)\n",
    "print (\"The total number of elements in our object is : \",df.size)\n"
   ]
  },
  {
   "cell_type": "code",
   "execution_count": 18,
   "metadata": {},
   "outputs": [
    {
     "name": "stdout",
     "output_type": "stream",
     "text": [
      "The object is:\n",
      "       Name  Age Gender\n",
      "0     Honey   20      F\n",
      "1     Dolly   18      F\n",
      "2       TSR   49      M\n",
      "3  Chinnari   40      F\n",
      "The actual data in our data frame is : \n",
      "[['Honey' 20 'F']\n",
      " ['Dolly' 18 'F']\n",
      " ['TSR' 49 'M']\n",
      " ['Chinnari' 40 'F']]\n"
     ]
    }
   ],
   "source": [
    "import pandas as pd\n",
    "import numpy as np\n",
    "d = {'Name':pd.Series(['Honey','Dolly','TSR','Chinnari']),\n",
    "   'Age':pd.Series([20,18,49,40]), \n",
    "   'Gender':pd.Series(['F','F','M','F'])}\n",
    "df = pd.DataFrame(d)\n",
    "print (\"The object is:\")\n",
    "print (df)\n",
    "print (\"The actual data in our data frame is : \")\n",
    "print (df.values)"
   ]
  },
  {
   "cell_type": "code",
   "execution_count": 17,
   "metadata": {},
   "outputs": [
    {
     "name": "stdout",
     "output_type": "stream",
     "text": [
      "The data frame is:\n",
      "       Name  Age Gender\n",
      "0     Honey   20      F\n",
      "1     Dolly   18      F\n",
      "2       TSR   49      M\n",
      "3  Chinnari   40      F\n",
      "The first two rows of the data frame is : \n",
      "    Name  Age Gender\n",
      "0  Honey   20      F\n",
      "1  Dolly   18      F\n",
      "2    TSR   49      M\n",
      "Default head values are : \n",
      "       Name  Age Gender\n",
      "0     Honey   20      F\n",
      "1     Dolly   18      F\n",
      "2       TSR   49      M\n",
      "3  Chinnari   40      F\n"
     ]
    }
   ],
   "source": [
    "import pandas as pd\n",
    "import numpy as np\n",
    " \n",
    "#Create a Dictionary of series\n",
    "d = {'Name':pd.Series(['Honey','Dolly','TSR','Chinnari']),\n",
    "   'Age':pd.Series([20,18,49,40]), \n",
    "   'Gender':pd.Series(['F','F','M','F'])}\n",
    "\n",
    "#Create a DataFrame\n",
    "df = pd.DataFrame(d)\n",
    "print (\"The data frame is:\")\n",
    "print (df)\n",
    "print (\"The first two rows of the data frame is : \")\n",
    "print (df.head(3))\n",
    "print(\"Default head values are : \")\n",
    "print (df.head())"
   ]
  },
  {
   "cell_type": "code",
   "execution_count": 16,
   "metadata": {},
   "outputs": [
    {
     "name": "stdout",
     "output_type": "stream",
     "text": [
      "The data frame is:\n",
      "       Name  Age Gender\n",
      "0     Honey   20      F\n",
      "1     Dolly   18      F\n",
      "2       TSR   49      M\n",
      "3  Chinnari   40      F\n",
      "The last two rows of the data frame is : \n",
      "       Name  Age Gender\n",
      "2       TSR   49      M\n",
      "3  Chinnari   40      F\n"
     ]
    }
   ],
   "source": [
    "import pandas as pd\n",
    "import numpy as np\n",
    "\n",
    "#Create a Dictionary of series\n",
    "d = {'Name':pd.Series(['Honey','Dolly','TSR','Chinnari']),\n",
    "   'Age':pd.Series([20,18,49,40]), \n",
    "   'Gender':pd.Series(['F','F','M','F'])}\n",
    "df = pd.DataFrame(d)\n",
    "print (\"The data frame is:\")\n",
    "print (df)\n",
    "print (\"The last two rows of the data frame is : \")\n",
    "print (df.tail(2))"
   ]
  },
  {
   "cell_type": "code",
   "execution_count": null,
   "metadata": {},
   "outputs": [],
   "source": []
  }
 ],
 "metadata": {
  "kernelspec": {
   "display_name": "Python 3",
   "language": "python",
   "name": "python3"
  },
  "language_info": {
   "codemirror_mode": {
    "name": "ipython",
    "version": 3
   },
   "file_extension": ".py",
   "mimetype": "text/x-python",
   "name": "python",
   "nbconvert_exporter": "python",
   "pygments_lexer": "ipython3",
   "version": "3.7.3"
  }
 },
 "nbformat": 4,
 "nbformat_minor": 5
}
