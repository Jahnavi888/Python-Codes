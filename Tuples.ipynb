{
  "nbformat": 4,
  "nbformat_minor": 5,
  "metadata": {
    "kernelspec": {
      "display_name": "Python 3",
      "language": "python",
      "name": "python3"
    },
    "language_info": {
      "codemirror_mode": {
        "name": "ipython",
        "version": 3
      },
      "file_extension": ".py",
      "mimetype": "text/x-python",
      "name": "python",
      "nbconvert_exporter": "python",
      "pygments_lexer": "ipython3",
      "version": "3.8.8"
    },
    "colab": {
      "name": "Tuples.ipynb",
      "provenance": [],
      "collapsed_sections": []
    }
  },
  "cells": [
    {
      "cell_type": "code",
      "metadata": {
        "id": "424b5b94",
        "colab": {
          "base_uri": "https://localhost:8080/"
        },
        "outputId": "ea2f3263-150a-4d5a-e84c-e420fd352194"
      },
      "source": [
        "tup= ('red','blue','green')\n",
        "print(tup)\n",
        "tup1=(1,2,3,4,5,6)\n",
        "print(tup1)\n",
        "tup2=\"rose\",\"lily\"\n",
        "print(tup2)"
      ],
      "id": "424b5b94",
      "execution_count": 1,
      "outputs": [
        {
          "output_type": "stream",
          "name": "stdout",
          "text": [
            "('red', 'blue', 'green')\n",
            "(1, 2, 3, 4, 5, 6)\n",
            "('rose', 'lily')\n"
          ]
        }
      ]
    },
    {
      "cell_type": "code",
      "metadata": {
        "id": "debde1a5",
        "colab": {
          "base_uri": "https://localhost:8080/"
        },
        "outputId": "2d3a9ee1-b6c1-48f0-88c3-654855e12b9a"
      },
      "source": [
        "tup1 = ()\n",
        "print(tup1)"
      ],
      "id": "debde1a5",
      "execution_count": 2,
      "outputs": [
        {
          "output_type": "stream",
          "name": "stdout",
          "text": [
            "()\n"
          ]
        }
      ]
    },
    {
      "cell_type": "code",
      "metadata": {
        "id": "74286d0d",
        "colab": {
          "base_uri": "https://localhost:8080/"
        },
        "outputId": "21083cc2-2ee7-4d31-9684-a8876d5cc445"
      },
      "source": [
        "tup1 = (8)\n",
        "print(tup1)"
      ],
      "id": "74286d0d",
      "execution_count": 3,
      "outputs": [
        {
          "output_type": "stream",
          "name": "stdout",
          "text": [
            "8\n"
          ]
        }
      ]
    },
    {
      "cell_type": "code",
      "metadata": {
        "id": "a79a5606",
        "colab": {
          "base_uri": "https://localhost:8080/"
        },
        "outputId": "d486e960-048c-4fb9-fade-cc485fc72e4b"
      },
      "source": [
        "tup= ('red','blue','green','yellow','orange')\n",
        "print(tup[0])\n",
        "print(tup[2])\n",
        "print(tup[2:5])"
      ],
      "id": "a79a5606",
      "execution_count": 4,
      "outputs": [
        {
          "output_type": "stream",
          "name": "stdout",
          "text": [
            "red\n",
            "green\n",
            "('green', 'yellow', 'orange')\n"
          ]
        }
      ]
    },
    {
      "cell_type": "code",
      "metadata": {
        "id": "21292bd1",
        "colab": {
          "base_uri": "https://localhost:8080/"
        },
        "outputId": "d70886bb-e4a6-42ee-e140-2216768e67d7"
      },
      "source": [
        "tup1= ('red','blue','green','yellow','orange')\n",
        "print(tup1)"
      ],
      "id": "21292bd1",
      "execution_count": 7,
      "outputs": [
        {
          "output_type": "stream",
          "name": "stdout",
          "text": [
            "('red', 'blue', 'green', 'yellow', 'orange')\n"
          ]
        }
      ]
    },
    {
      "cell_type": "code",
      "metadata": {
        "id": "10d1afee",
        "colab": {
          "base_uri": "https://localhost:8080/"
        },
        "outputId": "2541f199-e741-4fa3-e888-ec3cb5411695"
      },
      "source": [
        "tup1= ('red','blue','green','yellow','orange')\n",
        "print(tup1)\n",
        "tup2= ('rose','lily','jasmine')\n",
        "print(tup2)\n",
        "tup3=tup1+tup2\n",
        "print(tup3)"
      ],
      "id": "10d1afee",
      "execution_count": 8,
      "outputs": [
        {
          "output_type": "stream",
          "name": "stdout",
          "text": [
            "('red', 'blue', 'green', 'yellow', 'orange')\n",
            "('rose', 'lily', 'jasmine')\n",
            "('red', 'blue', 'green', 'yellow', 'orange', 'rose', 'lily', 'jasmine')\n"
          ]
        }
      ]
    },
    {
      "cell_type": "code",
      "metadata": {
        "id": "bb18bcef",
        "colab": {
          "base_uri": "https://localhost:8080/",
          "height": 248
        },
        "outputId": "fd582055-8411-4cd5-b5db-abaf93a665f2"
      },
      "source": [
        "tup1= ('red','blue','green','yellow','orange')\n",
        "print(tup1)\n",
        "print(\"value at 3rd position = \",tup1[3])\n",
        "tup1[3]=\"Jahnavi T\" #do not support item asssignment\n",
        "print(\"Updated value at 3rd position = \",tup1[3])"
      ],
      "id": "bb18bcef",
      "execution_count": 11,
      "outputs": [
        {
          "output_type": "stream",
          "name": "stdout",
          "text": [
            "('red', 'blue', 'green', 'yellow', 'orange')\n",
            "value at 3rd position =  yellow\n"
          ]
        },
        {
          "output_type": "error",
          "ename": "TypeError",
          "evalue": "ignored",
          "traceback": [
            "\u001b[0;31m---------------------------------------------------------------------------\u001b[0m",
            "\u001b[0;31mTypeError\u001b[0m                                 Traceback (most recent call last)",
            "\u001b[0;32m<ipython-input-11-b7d2c769fe93>\u001b[0m in \u001b[0;36m<module>\u001b[0;34m()\u001b[0m\n\u001b[1;32m      2\u001b[0m \u001b[0mprint\u001b[0m\u001b[0;34m(\u001b[0m\u001b[0mtup1\u001b[0m\u001b[0;34m)\u001b[0m\u001b[0;34m\u001b[0m\u001b[0;34m\u001b[0m\u001b[0m\n\u001b[1;32m      3\u001b[0m \u001b[0mprint\u001b[0m\u001b[0;34m(\u001b[0m\u001b[0;34m\"value at 3rd position = \"\u001b[0m\u001b[0;34m,\u001b[0m\u001b[0mtup1\u001b[0m\u001b[0;34m[\u001b[0m\u001b[0;36m3\u001b[0m\u001b[0;34m]\u001b[0m\u001b[0;34m)\u001b[0m\u001b[0;34m\u001b[0m\u001b[0;34m\u001b[0m\u001b[0m\n\u001b[0;32m----> 4\u001b[0;31m \u001b[0mtup1\u001b[0m\u001b[0;34m[\u001b[0m\u001b[0;36m3\u001b[0m\u001b[0;34m]\u001b[0m\u001b[0;34m=\u001b[0m\u001b[0;34m\"Jahnavi T\"\u001b[0m\u001b[0;34m\u001b[0m\u001b[0;34m\u001b[0m\u001b[0m\n\u001b[0m\u001b[1;32m      5\u001b[0m \u001b[0mprint\u001b[0m\u001b[0;34m(\u001b[0m\u001b[0;34m\"Updated value at 3rd position = \"\u001b[0m\u001b[0;34m,\u001b[0m\u001b[0mtup1\u001b[0m\u001b[0;34m[\u001b[0m\u001b[0;36m3\u001b[0m\u001b[0;34m]\u001b[0m\u001b[0;34m)\u001b[0m\u001b[0;34m\u001b[0m\u001b[0;34m\u001b[0m\u001b[0m\n",
            "\u001b[0;31mTypeError\u001b[0m: 'tuple' object does not support item assignment"
          ]
        }
      ]
    },
    {
      "cell_type": "code",
      "metadata": {
        "id": "90cb299f",
        "colab": {
          "base_uri": "https://localhost:8080/"
        },
        "outputId": "99f23f0c-b7cf-4d17-e148-20e0921fbe02"
      },
      "source": [
        "tup1= ('red','blue','green','yellow','orange')\n",
        "print(tup1)\n",
        "tup2= ('rose','lily','jasmine')\n",
        "print(tup2)\n",
        "a=len(tup1)\n",
        "b=len(tup2)\n",
        "print(a)\n",
        "print(b)\n",
        "\n",
        "print(len(tup1))\n"
      ],
      "id": "90cb299f",
      "execution_count": 10,
      "outputs": [
        {
          "output_type": "stream",
          "name": "stdout",
          "text": [
            "('red', 'blue', 'green', 'yellow', 'orange')\n",
            "('rose', 'lily', 'jasmine')\n",
            "5\n",
            "3\n",
            "5\n"
          ]
        }
      ]
    },
    {
      "cell_type": "code",
      "metadata": {
        "id": "fd3c1496",
        "colab": {
          "base_uri": "https://localhost:8080/"
        },
        "outputId": "b926f55f-dcb1-4f4a-d4aa-20207687e47a"
      },
      "source": [
        "tup1= ('red','blue','green','yellow','orange')\n",
        "print(tup1)\n",
        "tup2= ('rose','lily','jasmine')\n",
        "print(tup2)\n",
        "\n",
        "\n",
        "print(max(tup1))"
      ],
      "id": "fd3c1496",
      "execution_count": 12,
      "outputs": [
        {
          "output_type": "stream",
          "name": "stdout",
          "text": [
            "('red', 'blue', 'green', 'yellow', 'orange')\n",
            "('rose', 'lily', 'jasmine')\n",
            "yellow\n"
          ]
        }
      ]
    }
  ]
}