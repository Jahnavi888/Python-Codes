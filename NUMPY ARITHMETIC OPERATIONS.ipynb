{
 "cells": [
  {
   "cell_type": "code",
   "execution_count": 18,
   "metadata": {},
   "outputs": [
    {
     "name": "stdout",
     "output_type": "stream",
     "text": [
      "Print A=  8\n",
      "Print B=  [22 33 44 55]\n",
      "After Addition = [30 41 52 63]\n",
      "After Subtraction = [14 25 36 47]\n",
      "After Multiplcation = [176 264 352 440]\n",
      "After Division = [2.75  4.125 5.5   6.875]\n",
      "After Modulus = [6 1 4 7]\n"
     ]
    }
   ],
   "source": [
    "import numpy as np\n",
    "\n",
    "a=np.array(8)\n",
    "\n",
    "print(\"Print A= \",a)\n",
    "\n",
    "b=np.array([22,33,44,55])\n",
    "\n",
    "print(\"Print B= \", b)\n",
    "\n",
    "addition= np.add(a,b)\n",
    "\n",
    "print(\"After Addition =\", addition)\n",
    "\n",
    "sub=np.subtract(b,a)\n",
    "\n",
    "print(\"After Subtraction =\",sub)\n",
    "\n",
    "mul=np.multiply (a,b)\n",
    "\n",
    "print(\"After Multiplcation =\",mul)\n",
    "\n",
    "div=np.divide (b,a)\n",
    "\n",
    "print(\"After Division =\",div)\n",
    "\n",
    "mod=np.mod (b,a)\n",
    "\n",
    "print(\"After Modulus =\",mod)"
   ]
  },
  {
   "cell_type": "code",
   "execution_count": 14,
   "metadata": {},
   "outputs": [
    {
     "name": "stdout",
     "output_type": "stream",
     "text": [
      "[  0.25   1.33   1.   111.  ]\n",
      "[4.         0.7518797  1.         0.00900901]\n"
     ]
    }
   ],
   "source": [
    "import numpy as np\n",
    "a= np.array([0.25,1.33,1,111])\n",
    "\n",
    "print(a)\n",
    "\n",
    "rec=np.reciprocal(a) \n",
    "print(rec)"
   ]
  },
  {
   "cell_type": "code",
   "execution_count": 10,
   "metadata": {},
   "outputs": [
    {
     "name": "stdout",
     "output_type": "stream",
     "text": [
      "[  10  100 1000]\n",
      "after ^2 =  [    100   10000 1000000]\n",
      "after b array elements as ^ =  [    100 1000000    1000]\n"
     ]
    }
   ],
   "source": [
    "import numpy as np\n",
    "a=np.array([10,100,1000])\n",
    "\n",
    "print(a)\n",
    "\n",
    "pow=np.power(a,2)\n",
    "print(\"after ^2 = \", pow)\n",
    "\n",
    "\n",
    "b=np.array([2,3,1])\n",
    "\n",
    "pow1=np.power(a,b)\n",
    "print(\"after b array elements as ^ = \", pow1)\n"
   ]
  },
  {
   "cell_type": "code",
   "execution_count": 9,
   "metadata": {},
   "outputs": [
    {
     "name": "stdout",
     "output_type": "stream",
     "text": [
      "values of A= [65 55 44]\n",
      "values of B= [6 5 4]\n",
      "Values of MODULUS =  [5 0 0]\n",
      "Values of REMAINDER =  [5 0 0]\n"
     ]
    }
   ],
   "source": [
    "import numpy as np\n",
    "a= np.array ([65,55,44])\n",
    "b= np.array ([6,5,4])\n",
    "\n",
    "print(\"values of A=\", a)\n",
    "print(\"values of B=\", b)\n",
    "\n",
    "mm=np.mod(a,b)\n",
    "\n",
    "rm=np.remainder(a,b)\n",
    "\n",
    "print(\"Values of MODULUS = \", mm)\n",
    "print(\"Values of REMAINDER = \", rm)\n",
    "\n"
   ]
  },
  {
   "cell_type": "code",
   "execution_count": 7,
   "metadata": {},
   "outputs": [
    {
     "name": "stdout",
     "output_type": "stream",
     "text": [
      "[ 0.+8.8j  0.+4.2j 11.+0.j   1.+1.j ]\n",
      "Real= [ 0.  0. 11.  1.]\n",
      "Imaginary= [8.8 4.2 0.  1. ]\n",
      "Conjugate= [ 0.-8.8j  0.-4.2j 11.-0.j   1.-1.j ]\n"
     ]
    }
   ],
   "source": [
    "import numpy as np\n",
    "a=np.array([8.8j, 4.2j,11, 1+1j])\n",
    "print(a)\n",
    "\n",
    "print(\"Real=\",np.real(a))\n",
    "\n",
    "print(\"Imaginary=\",np.imag(a))\n",
    "\n",
    "print(\"Conjugate=\", np.conj(a))"
   ]
  },
  {
   "cell_type": "code",
   "execution_count": 5,
   "metadata": {},
   "outputs": [
    {
     "name": "stdout",
     "output_type": "stream",
     "text": [
      "[ 4.   6.9 -2.5  8.8 60. ]\n",
      "After rounding up= [ 4.  7. -2.  9. 60.]\n",
      "After rounding up to 1st decimal value = [ 4.   6.9 -2.5  8.8 60. ]\n"
     ]
    }
   ],
   "source": [
    "import numpy as np\n",
    "a=np.array ([4.0,6.9,-2.5,8.8,60])\n",
    "\n",
    "print(a)\n",
    "\n",
    "print(\"After rounding up=\", np.around(a))\n",
    "\n",
    "print(\"After rounding up to 1st decimal value =\", np.around(a,decimals=1))"
   ]
  },
  {
   "cell_type": "code",
   "execution_count": 3,
   "metadata": {},
   "outputs": [
    {
     "name": "stdout",
     "output_type": "stream",
     "text": [
      "[ 4.   6.9 -2.5  8.8 60. ]\n",
      "\n",
      "\n",
      "[ 4.  6. -3.  8. 60.]\n",
      "[ 4.  7. -2.  9. 60.]\n"
     ]
    }
   ],
   "source": [
    "import numpy as np\n",
    "a=np.array ([4.0,6.9,-2.5,8.8,60])\n",
    "\n",
    "print(a)\n",
    "\n",
    "print('\\n')\n",
    "\n",
    "print(np.floor(a))\n",
    "\n",
    "print(np.ceil(a))"
   ]
  },
  {
   "cell_type": "code",
   "execution_count": null,
   "metadata": {},
   "outputs": [],
   "source": []
  }
 ],
 "metadata": {
  "kernelspec": {
   "display_name": "Python 3",
   "language": "python",
   "name": "python3"
  },
  "language_info": {
   "codemirror_mode": {
    "name": "ipython",
    "version": 3
   },
   "file_extension": ".py",
   "mimetype": "text/x-python",
   "name": "python",
   "nbconvert_exporter": "python",
   "pygments_lexer": "ipython3",
   "version": "3.7.3"
  }
 },
 "nbformat": 4,
 "nbformat_minor": 5
}
