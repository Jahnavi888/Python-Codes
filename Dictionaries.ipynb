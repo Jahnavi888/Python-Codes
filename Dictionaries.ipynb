{
  "nbformat": 4,
  "nbformat_minor": 5,
  "metadata": {
    "kernelspec": {
      "display_name": "Python 3",
      "language": "python",
      "name": "python3"
    },
    "language_info": {
      "codemirror_mode": {
        "name": "ipython",
        "version": 3
      },
      "file_extension": ".py",
      "mimetype": "text/x-python",
      "name": "python",
      "nbconvert_exporter": "python",
      "pygments_lexer": "ipython3",
      "version": "3.8.8"
    },
    "colab": {
      "name": "Dictionaries.ipynb",
      "provenance": [],
      "collapsed_sections": []
    }
  },
  "cells": [
    {
      "cell_type": "code",
      "metadata": {
        "id": "f9e29d38",
        "colab": {
          "base_uri": "https://localhost:8080/"
        },
        "outputId": "48562e2f-8957-4ec9-cebc-5c73b1c5d2d0"
      },
      "source": [
        "dict={'name':'Jahnavi T','designation':'Student','education':'BTECH','univ':'CMR'}\n",
        "print(dict['name'])\n",
        "\n",
        "\n",
        "print(dict['education'])"
      ],
      "id": "f9e29d38",
      "execution_count": 2,
      "outputs": [
        {
          "output_type": "stream",
          "name": "stdout",
          "text": [
            "Jahnavi T\n",
            "BTECH\n"
          ]
        }
      ]
    },
    {
      "cell_type": "code",
      "metadata": {
        "id": "dae64caa",
        "colab": {
          "base_uri": "https://localhost:8080/"
        },
        "outputId": "0fc1cf84-1135-40ec-d531-e81fec5563ba"
      },
      "source": [
        "dict={'name':'Jahnavi T','designation':'Student','education':'BTECH','univ':'CMR'}\n",
        "\n",
        "dict['name']='Jahnavi'\n",
        "\n",
        "print(dict['name'])\n",
        "\n",
        "dict['dept']='CSE'\n",
        "\n",
        "print(dict['dept'])\n",
        "\n"
      ],
      "id": "dae64caa",
      "execution_count": 5,
      "outputs": [
        {
          "output_type": "stream",
          "name": "stdout",
          "text": [
            "Jahnavi\n",
            "CSE\n"
          ]
        }
      ]
    },
    {
      "cell_type": "code",
      "metadata": {
        "id": "a812e5e4",
        "colab": {
          "base_uri": "https://localhost:8080/"
        },
        "outputId": "6bb4298d-2c80-4198-bcda-4f7f712258a4"
      },
      "source": [
        "dict={'name':'Jahnavi T','designation':'Student','education':'BTECH','univ':'CMR'}\n",
        "\n",
        "print(dict['designation'])\n",
        "\n",
        "print(dict['name'])\n",
        "\n",
        "del dict"
      ],
      "id": "a812e5e4",
      "execution_count": 12,
      "outputs": [
        {
          "output_type": "stream",
          "name": "stdout",
          "text": [
            "Student\n",
            "Jahnavi T\n"
          ]
        }
      ]
    },
    {
      "cell_type": "code",
      "metadata": {
        "id": "fd8f8734",
        "colab": {
          "base_uri": "https://localhost:8080/"
        },
        "outputId": "cacab8a9-51c9-47ed-b3eb-1f8afc895fa6"
      },
      "source": [
        "dict={'name':'Jahnavi T','designation':'Student','education':'BTECH','univ':'CMR'}\n",
        "print(len(dict))"
      ],
      "id": "fd8f8734",
      "execution_count": 13,
      "outputs": [
        {
          "output_type": "stream",
          "name": "stdout",
          "text": [
            "4\n"
          ]
        }
      ]
    },
    {
      "cell_type": "code",
      "metadata": {
        "id": "7a9cf5ae",
        "colab": {
          "base_uri": "https://localhost:8080/"
        },
        "outputId": "5be981ba-d2d2-4c34-a086-57e3487a58c3"
      },
      "source": [
        "dict={'name':'Jahnavi T','designation':'Student','education':'BTECH','univ':'CMR', 'dept':'CSE'}\n",
        "print(dict.values())\n",
        "\n",
        "print(dict.items())\n",
        "\n",
        "print(dict.keys())"
      ],
      "id": "7a9cf5ae",
      "execution_count": 14,
      "outputs": [
        {
          "output_type": "stream",
          "name": "stdout",
          "text": [
            "dict_values(['Jahnavi T', 'Student', 'BTECH', 'CMR', 'CSE'])\n",
            "dict_items([('name', 'Jahnavi T'), ('designation', 'Student'), ('education', 'BTECH'), ('univ', 'CMR'), ('dept', 'CSE')])\n",
            "dict_keys(['name', 'designation', 'education', 'univ', 'dept'])\n"
          ]
        }
      ]
    },
    {
      "cell_type": "code",
      "metadata": {
        "id": "2842e9db",
        "colab": {
          "base_uri": "https://localhost:8080/"
        },
        "outputId": "4d211ea3-00ea-41ff-b51e-51a21d33fa06"
      },
      "source": [
        "dict={'name':'Jahnavi T','designation':'Student','education':'BTECH','univ':'CMR','dept':'CSE'}\n",
        "print(dict['name'])\n",
        "print(dict.get('edu',\"Bangalore\"))\n"
      ],
      "id": "2842e9db",
      "execution_count": 16,
      "outputs": [
        {
          "output_type": "stream",
          "name": "stdout",
          "text": [
            "Jahnavi T\n",
            "Bangalore\n"
          ]
        }
      ]
    },
    {
      "cell_type": "code",
      "metadata": {
        "id": "243dda29",
        "colab": {
          "base_uri": "https://localhost:8080/"
        },
        "outputId": "625d6fcc-02c3-4bf7-9d02-c1dc6b3c65af"
      },
      "source": [
        "dict={'name':'Jahnavi T','designation':'Student','education':'BTECH','univ':'CMR','dept':'CSE'}\n",
        "dict2=dict.copy()\n",
        "print(dict2['name'])\n",
        "print(len(dict2))"
      ],
      "id": "243dda29",
      "execution_count": 17,
      "outputs": [
        {
          "output_type": "stream",
          "name": "stdout",
          "text": [
            "Jahnavi T\n",
            "5\n"
          ]
        }
      ]
    },
    {
      "cell_type": "code",
      "metadata": {
        "id": "6a57403b",
        "colab": {
          "base_uri": "https://localhost:8080/"
        },
        "outputId": "a829c106-e9ac-4d0c-84e9-e539066aecb6"
      },
      "source": [
        "dict={'name':'Jahnavi T','designation':'Student','education':'BTECH','univ':'CMR', 'dept':'CSE'}\n",
        "\n",
        "\n",
        "dict2={'edu':'btech-mtech','students':'7 Sem'}\n",
        "\n",
        "print(dict)\n",
        "print(dict2)\n",
        "\n",
        "dict.update(dict2)\n",
        "\n",
        "print(dict)"
      ],
      "id": "6a57403b",
      "execution_count": 19,
      "outputs": [
        {
          "output_type": "stream",
          "name": "stdout",
          "text": [
            "{'name': 'Jahnavi T', 'designation': 'Student', 'education': 'BTECH', 'univ': 'CMR', 'dept': 'CSE'}\n",
            "{'edu': 'btech-mtech', 'students': '7 Sem'}\n",
            "{'name': 'Jahnavi T', 'designation': 'Student', 'education': 'BTECH', 'univ': 'CMR', 'dept': 'CSE', 'edu': 'btech-mtech', 'students': '7 Sem'}\n"
          ]
        }
      ]
    }
  ]
}