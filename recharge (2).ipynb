{
 "cells": [
  {
   "cell_type": "code",
   "execution_count": 1,
   "metadata": {},
   "outputs": [
    {
     "name": "stdout",
     "output_type": "stream",
     "text": [
      "Do you want to rechage ? Press Y to continue\n",
      "Y\n",
      "Press 1 for Prepaid or 2 for Postpaid\n",
      "1\n",
      "Enter mobile number\n",
      "6363364581\n",
      "select operator-press 1 for airtel, 2 for jio, 3 for vodafone\n",
      "2\n",
      "Enter the amount : 251\n",
      "\\Jio Recharge plans : \n",
      "\n",
      "Price       Description\n",
      "21         2GB 4G Data + 200 minutes to non-Jio\n",
      "51         6GB 4G Data + 500 minutes to non-Jio\n",
      "251        50 GB 4G DataReliance jio-Tamil Nadu/ Validity 30 days\n",
      "\n",
      "Validity for the amount :  251 Rs- 50 GB 4G DataReliance jio-Tamil Nadu/ Validity 30 days \n",
      "Recharge Successfull!\n"
     ]
    }
   ],
   "source": [
    "# recharge plan \n",
    "#Ques-write a python program for recharge plan for your service provider\n",
    "\n",
    "print(\"Do you want to rechage ? Press Y to continue\")\n",
    "a=input()\n",
    "if a!='Y':\n",
    "    print(\"You have given wrong input\")\n",
    "    print(\"Do you want to continue, press Y\")\n",
    "    a=input()\n",
    "    name=input(\"Enter  name : \")\n",
    "    \n",
    "print(\"Press 1 for Prepaid or 2 for Postpaid\")\n",
    "b=int(input())\n",
    "print(\"Enter mobile number\")\n",
    "mob=int(input())\n",
    "print(\"select operator-press 1 for airtel, 2 for jio, 3 for vodafone\")\n",
    "mobi=int(input())\n",
    "if mobi==1:\n",
    "    oper='airtel'\n",
    "elif mobi==2:\n",
    "    oper='jio'\n",
    "elif mobi==3:\n",
    "    oper='vodafone'\n",
    "\n",
    "    \n",
    "amount=input(\"Enter the amount : \")\n",
    "#op[10]={'airtel','jio','vi'}\n",
    "\n",
    "if(oper=='airtel'):\n",
    "    Airtel={'98':'Airtel-Enjoy 12GB data, valid till your current pack validity',\n",
    "        '48':'Airtel-Enjoy 3GB data with 28 days validity','399':'Airtel-FRC_399: Unlimited free Data with speed reduced to 80Kpbs after 1GB/day.\\n\\t+Unlimited free voice calls in home and national roaming',\n",
    "        '249':'Airtel-1.5 GB/Day Data + Truly Unlimited Local/National Calls to all Networks + 100 Local and National SMS/Day.\\n\\tPack Valid for 28 Days. Now enjoy Weekend roll-over & binge on weekends',\n",
    "        }\n",
    "    print('\\nAirtel Recharge plans : ')\n",
    "    print('\\nPrice       Description')\n",
    "    for price, des in Airtel.items():\n",
    "        print('{:<10} {:<10}'.format(price, des))\n",
    "    print(\"\\nValidity for the amount : \",amount,\"Rs-\",Airtel[amount],\"\\nRecharge Successfull!\")\n",
    "    \n",
    "elif(oper=='jio'):\n",
    "    jio={'21':'2GB 4G Data + 200 minutes to non-Jio','51':'6GB 4G Data + 500 minutes to non-Jio','251':'50 GB 4G DataReliance jio-Tamil Nadu/ Validity 30 days'}\n",
    "    print('\\Jio Recharge plans : ')\n",
    "    print('\\nPrice       Description')\n",
    "    for price, des in jio.items():\n",
    "        print('{:<10} {:<10}'.format(price, des))\n",
    "    print(\"\\nValidity for the amount : \",amount,\"Rs-\",jio[amount],\"\\nRecharge Successfull!\")\n",
    "    \n",
    "elif(oper=='vodafone'):\n",
    "    Vodafone={'1499':'Now get Truly Unlimited Local/National Calls to all Networks + 24GB Data + 3600 Local and National SMS.\\n\\tPack Validity for 365 Days ,Vi Movies & TV accessVodafone-Tamil Nadu/ Validity 365 days',\n",
    "              '249':'1.5 GB/Day Data + Truly Unlimited Local/National Calls to all Networks + 100 Local and National SMS/Day.\\n\\tPack Valid for 28 Days. Now enjoy Weekend roll-over & binge on weekends ...moreVodafone-Tamil Nadu/ Validity 28 days',\n",
    "              '47':'Callertunes With Unlimited Song Change at Rs. 47 for 28 daysVodafone-West Bengal/ Validity 28 days',\n",
    "              '62':'Get access to Over 200 Popular Ad-free Games for 89 DaysVodafone-West Bengal/ Validity 89 days'}\n",
    "    print('\\nVodafone Recharge plans : ')\n",
    "    print('\\nprice       Description')\n",
    "    for price, des in Vodafone.items():\n",
    "        print('{:<10} {:<10}'.format(price, des))\n",
    "    print(\"\\nValidity for the amount : \",amount,\"Rs-\",Vodafone[amount],\"\\nRecharge Successfull!\")\n",
    "      \n",
    "#validity=input(\"Enter the validity of recharge : \")\n"
   ]
  },
  {
   "cell_type": "code",
   "execution_count": null,
   "metadata": {},
   "outputs": [],
   "source": []
  }
 ],
 "metadata": {
  "kernelspec": {
   "display_name": "Python 3",
   "language": "python",
   "name": "python3"
  },
  "language_info": {
   "codemirror_mode": {
    "name": "ipython",
    "version": 3
   },
   "file_extension": ".py",
   "mimetype": "text/x-python",
   "name": "python",
   "nbconvert_exporter": "python",
   "pygments_lexer": "ipython3",
   "version": "3.7.3"
  }
 },
 "nbformat": 4,
 "nbformat_minor": 4
}
