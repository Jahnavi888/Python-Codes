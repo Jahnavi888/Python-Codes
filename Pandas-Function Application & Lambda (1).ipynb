{
 "cells": [
  {
   "cell_type": "code",
   "execution_count": 7,
   "metadata": {
    "scrolled": true
   },
   "outputs": [
    {
     "name": "stdout",
     "output_type": "stream",
     "text": [
      "       col1      col2      col3\n",
      "0 -0.848554 -0.049688  0.591420\n",
      "1  0.420338 -1.262283  0.246616\n",
      "2  0.415845 -0.510364 -1.471374\n",
      "3  0.392155  1.103341  1.609176\n",
      "4 -1.190195 -1.053302 -0.121326\n",
      "printing the results of pipe\n",
      "       col1      col2      col3\n",
      "0  1.151446  1.950312  2.591420\n",
      "1  2.420338  0.737717  2.246616\n",
      "2  2.415845  1.489636  0.528626\n",
      "3  2.392155  3.103341  3.609176\n",
      "4  0.809805  0.946698  1.878674\n"
     ]
    }
   ],
   "source": [
    "import pandas as pd\n",
    "import numpy as np\n",
    "\n",
    "def adder(ele1,ele2):\n",
    "   return ele1+ele2\n",
    "\n",
    "df = pd.DataFrame(np.random.randn(5,3),columns=['col1','col2','col3'])\n",
    "print(df)\n",
    "print(\"printing the results of pipe\")\n",
    "print(df.pipe(adder,2))"
   ]
  },
  {
   "cell_type": "code",
   "execution_count": 8,
   "metadata": {},
   "outputs": [
    {
     "name": "stdout",
     "output_type": "stream",
     "text": [
      "       col1      col2      col3\n",
      "0 -0.531656  0.681589 -0.485882\n",
      "1  0.479041  0.704412  1.287908\n",
      "2 -0.091924  0.756160  0.613621\n",
      "3 -0.045790 -0.407299 -0.979141\n",
      "4  0.990996 -0.964394 -1.689338\n",
      "col1    0.160133\n",
      "col2    0.154094\n",
      "col3   -0.250566\n",
      "dtype: float64\n"
     ]
    }
   ],
   "source": [
    "import pandas as pd\n",
    "import numpy as np\n",
    "\n",
    "def adder(ele1,ele2):\n",
    "   return ele1+ele2\n",
    "\n",
    "df = pd.DataFrame(np.random.randn(5,3),columns=['col1','col2','col3'])\n",
    "print(df)\n",
    "\n",
    "print (df.apply(np.mean))"
   ]
  },
  {
   "cell_type": "code",
   "execution_count": 9,
   "metadata": {},
   "outputs": [
    {
     "name": "stdout",
     "output_type": "stream",
     "text": [
      "       col1      col2      col3\n",
      "0  0.084549  0.167735 -1.585421\n",
      "1 -0.615811 -0.174945  0.015171\n",
      "2  0.388638 -1.630645  0.812374\n",
      "3  0.742638 -2.345285 -1.610126\n",
      "4 -0.360676  1.825497  0.988508\n",
      "0   -0.444379\n",
      "1   -0.258528\n",
      "2   -0.143211\n",
      "3   -1.070924\n",
      "4    0.817776\n",
      "dtype: float64\n"
     ]
    }
   ],
   "source": [
    "import pandas as pd\n",
    "import numpy as np\n",
    "\n",
    "df = pd.DataFrame(np.random.randn(5,3),columns=['col1','col2','col3'])\n",
    "print(df)\n",
    "\n",
    "print (df.apply(np.mean,axis=1))"
   ]
  },
  {
   "cell_type": "code",
   "execution_count": 10,
   "metadata": {},
   "outputs": [
    {
     "name": "stdout",
     "output_type": "stream",
     "text": [
      "       col1      col2      col3\n",
      "0  1.565301 -1.219597 -1.439823\n",
      "1 -0.277025 -0.129678 -0.466199\n",
      "2  0.458448  0.582576 -0.547686\n",
      "3  2.101192 -0.690407  1.973380\n",
      "4 -0.210337  0.724229  0.053184\n",
      "0    156.530130\n",
      "1    -27.702491\n",
      "2     45.844774\n",
      "3    210.119163\n",
      "4    -21.033669\n",
      "Name: col1, dtype: float64\n"
     ]
    }
   ],
   "source": [
    "import pandas as pd\n",
    "import numpy as np\n",
    "df = pd.DataFrame(np.random.randn(5,3),columns=['col1','col2','col3'])\n",
    "print(df)\n",
    "\n",
    "print(df['col1'].map(lambda x:x*100))\n"
   ]
  },
  {
   "cell_type": "code",
   "execution_count": 18,
   "metadata": {},
   "outputs": [
    {
     "name": "stdout",
     "output_type": "stream",
     "text": [
      "   id      name  age  Occupation  Income\n",
      "0   1     Honey   20     Student   50000\n",
      "1   2     Dolly   18     Student   50000\n",
      "2   3       TSR   59         COE   25000\n",
      "3   4  Chinnari   41  House Wife   80000\n"
     ]
    }
   ],
   "source": [
    "df=pd.DataFrame({'id':[1,2,3,4],'name':['Honey','Dolly','TSR','Chinnari'],'age':[20,18,59,41], 'Occupation':['Student','Student','COE','House Wife'],'Income':[50000,50000,25000,80000]})\n",
    "print(df)"
   ]
  },
  {
   "cell_type": "code",
   "execution_count": 19,
   "metadata": {},
   "outputs": [
    {
     "name": "stdout",
     "output_type": "stream",
     "text": [
      "   id      name  age  Occupation  Income\n",
      "0   1     Honey   23     Student   50000\n",
      "1   2     Dolly   21     Student   50000\n",
      "2   3       TSR   62         COE   25000\n",
      "3   4  Chinnari   44  House Wife   80000\n"
     ]
    }
   ],
   "source": [
    "df['age']=df.apply(lambda x: x['age']+3, axis=1)\n",
    "print(df)"
   ]
  },
  {
   "cell_type": "code",
   "execution_count": 20,
   "metadata": {},
   "outputs": [
    {
     "data": {
      "text/plain": [
       "[23, 21, 62, 44]"
      ]
     },
     "execution_count": 20,
     "metadata": {},
     "output_type": "execute_result"
    }
   ],
   "source": [
    "list(filter(lambda x:x>18, df['age']))"
   ]
  },
  {
   "cell_type": "code",
   "execution_count": 22,
   "metadata": {},
   "outputs": [
    {
     "name": "stdout",
     "output_type": "stream",
     "text": [
      "   id      name  age  Occupation  Income\n",
      "0   1     Honey   23     Student   60000\n",
      "1   2     Dolly   21     Student   60000\n",
      "2   3       TSR   62         COE   30000\n",
      "3   4  Chinnari   44  House Wife   96000\n"
     ]
    }
   ],
   "source": [
    "df['Income']=list(map(lambda x: int(x+x*0.2), df['Income']))\n",
    "print(df)"
   ]
  },
  {
   "cell_type": "code",
   "execution_count": 23,
   "metadata": {},
   "outputs": [
    {
     "data": {
      "text/plain": [
       "246000"
      ]
     },
     "execution_count": 23,
     "metadata": {},
     "output_type": "execute_result"
    }
   ],
   "source": [
    "import functools\n",
    "\n",
    "functools.reduce(lambda a,b: a+b, df['Income'])"
   ]
  },
  {
   "cell_type": "code",
   "execution_count": 24,
   "metadata": {},
   "outputs": [],
   "source": [
    "df['category']=df['age'].apply(lambda x: 'Adult' if x>=18 else 'Child')"
   ]
  },
  {
   "cell_type": "code",
   "execution_count": 25,
   "metadata": {},
   "outputs": [
    {
     "name": "stdout",
     "output_type": "stream",
     "text": [
      "   id      name  age  Occupation  Income category\n",
      "0   1     Honey   23     Student   60000    Adult\n",
      "1   2     Dolly   21     Student   60000    Adult\n",
      "2   3       TSR   62         COE   30000    Adult\n",
      "3   4  Chinnari   44  House Wife   96000    Adult\n"
     ]
    }
   ],
   "source": [
    "print(df)"
   ]
  }
 ],
 "metadata": {
  "kernelspec": {
   "display_name": "Python 3",
   "language": "python",
   "name": "python3"
  },
  "language_info": {
   "codemirror_mode": {
    "name": "ipython",
    "version": 3
   },
   "file_extension": ".py",
   "mimetype": "text/x-python",
   "name": "python",
   "nbconvert_exporter": "python",
   "pygments_lexer": "ipython3",
   "version": "3.7.3"
  }
 },
 "nbformat": 4,
 "nbformat_minor": 5
}
